{
  "nbformat": 4,
  "nbformat_minor": 0,
  "metadata": {
    "colab": {
      "provenance": []
    },
    "kernelspec": {
      "name": "python3",
      "display_name": "Python 3"
    },
    "language_info": {
      "name": "python"
    }
  },
  "cells": [
    {
      "cell_type": "markdown",
      "source": [
        "---\n",
        "# **5. 개발자를 위한 ChatGPT 활용법_실습**\n",
        "---\n",
        "---"
      ],
      "metadata": {
        "id": "_sy8rQ0f-JFh"
      }
    },
    {
      "cell_type": "markdown",
      "source": [
        "<br/> <br/>"
      ],
      "metadata": {
        "id": "2NnD2KM2-FAl"
      }
    },
    {
      "cell_type": "markdown",
      "source": [
        "# **버그 및 에러 찾기**\n",
        "\n",
        "---\n",
        "\n",
        "\n",
        "\n"
      ],
      "metadata": {
        "id": "egngGUqo8PP1"
      }
    },
    {
      "cell_type": "markdown",
      "source": [
        "\n",
        "\n",
        "*   에러 코드\n",
        "\n"
      ],
      "metadata": {
        "id": "TzI_MOOE9R1Y"
      }
    },
    {
      "cell_type": "code",
      "execution_count": null,
      "metadata": {
        "colab": {
          "base_uri": "https://localhost:8080/",
          "height": 404
        },
        "id": "XuVDCHW6HQ_i",
        "outputId": "db43b82f-72dd-4220-939e-5b0f9aa485d2"
      },
      "outputs": [
        {
          "output_type": "error",
          "ename": "ModuleNotFoundError",
          "evalue": "ignored",
          "traceback": [
            "\u001b[0;31m---------------------------------------------------------------------------\u001b[0m",
            "\u001b[0;31mModuleNotFoundError\u001b[0m                       Traceback (most recent call last)",
            "\u001b[0;32m<ipython-input-1-c187061abdbf>\u001b[0m in \u001b[0;36m<cell line: 1>\u001b[0;34m()\u001b[0m\n\u001b[0;32m----> 1\u001b[0;31m \u001b[0;32mimport\u001b[0m \u001b[0mRandom\u001b[0m\u001b[0;34m\u001b[0m\u001b[0;34m\u001b[0m\u001b[0m\n\u001b[0m\u001b[1;32m      2\u001b[0m \u001b[0;34m\u001b[0m\u001b[0m\n\u001b[1;32m      3\u001b[0m \u001b[0;31m# 주장 리스트\u001b[0m\u001b[0;34m\u001b[0m\u001b[0;34m\u001b[0m\u001b[0m\n\u001b[1;32m      4\u001b[0m \u001b[0mteam_leaders\u001b[0m \u001b[0;34m=\u001b[0m \u001b[0;34m[\u001b[0m \u001b[0;34m'메이슨'\u001b[0m\u001b[0;34m,\u001b[0m \u001b[0;34m'손응민'\u001b[0m\u001b[0;34m,\u001b[0m \u001b[0;34m'다이어'\u001b[0m\u001b[0;34m,\u001b[0m \u001b[0;34m'로메로'\u001b[0m\u001b[0;34m]\u001b[0m\u001b[0;34m\u001b[0m\u001b[0;34m\u001b[0m\u001b[0m\n\u001b[1;32m      5\u001b[0m \u001b[0;34m\u001b[0m\u001b[0m\n",
            "\u001b[0;31mModuleNotFoundError\u001b[0m: No module named 'Random'",
            "",
            "\u001b[0;31m---------------------------------------------------------------------------\u001b[0;32m\nNOTE: If your import is failing due to a missing package, you can\nmanually install dependencies using either !pip or !apt.\n\nTo view examples of installing some common dependencies, click the\n\"Open Examples\" button below.\n\u001b[0;31m---------------------------------------------------------------------------\u001b[0m\n"
          ],
          "errorDetails": {
            "actions": [
              {
                "action": "open_url",
                "actionText": "Open Examples",
                "url": "/notebooks/snippets/importing_libraries.ipynb"
              }
            ]
          }
        }
      ],
      "source": [
        "import Random\n",
        "\n",
        "# 주장 리스트\n",
        "team_leaders = [ '메이슨', '손응민', '다이어', '로메로']\n",
        "\n",
        "#리스트 섞기\n",
        "random.shuffle(team_leaders)\n",
        "\n",
        "#결과 출력\n",
        "print(\"팀 선택 순위: \", ' -> '.join(team_leaders))"
      ]
    },
    {
      "cell_type": "markdown",
      "source": [
        "* 에러가 수정된 코드"
      ],
      "metadata": {
        "id": "3GIAuYvD9c16"
      }
    },
    {
      "cell_type": "code",
      "source": [
        "import random\n",
        "\n",
        "# 주장 리스트\n",
        "team_leaders = ['메이슨', '손응민', '다이어', '로메로']\n",
        "\n",
        "# 리스트 섞기\n",
        "random.shuffle(team_leaders)\n",
        "\n",
        "# 결과 출력\n",
        "print(\"팀 선택 순위:\", ' -> '.join(team_leaders))\n"
      ],
      "metadata": {
        "colab": {
          "base_uri": "https://localhost:8080/"
        },
        "id": "8a9vdkVuIJa3",
        "outputId": "0e3e8efd-e711-43ac-973a-60c2e526d3ab"
      },
      "execution_count": null,
      "outputs": [
        {
          "output_type": "stream",
          "name": "stdout",
          "text": [
            "팀 선택 순위: 메이슨 -> 손응민 -> 다이어 -> 로메로\n"
          ]
        }
      ]
    },
    {
      "cell_type": "markdown",
      "source": [
        "<br/>"
      ],
      "metadata": {
        "id": "rVRxC_wd-RTu"
      }
    },
    {
      "cell_type": "markdown",
      "source": [
        "#**작은 함수들을 ChatGPT로 만들어 보기**\n",
        "---"
      ],
      "metadata": {
        "id": "t1g4WRob9lM5"
      }
    },
    {
      "cell_type": "code",
      "source": [
        "def calculate(num1, num2, operator):\n",
        "    if operator == '+':\n",
        "        result = num1 + num2\n",
        "    elif operator == '-':\n",
        "        result = num1 - num2\n",
        "    elif operator == '*':\n",
        "        result = num1 * num2\n",
        "    elif operator == '/':\n",
        "        result = num1 / num2\n",
        "    else:\n",
        "        raise ValueError(\"올바른 연산자를 입력하세요 (+, -, *, /)\")\n",
        "    return result\n",
        "\n",
        "# 사용자 입력 받기\n",
        "num1 = int(input(\"첫 번째 정수를 입력하세요: \"))\n",
        "num2 = int(input(\"두 번째 정수를 입력하세요: \"))\n",
        "operator = input(\"연산자를 입력하세요 (+, -, *, /): \")\n",
        "\n",
        "# 연산 수행\n",
        "try:\n",
        "    result = calculate(num1, num2, operator)\n",
        "    print(\"결과:\", result)\n",
        "except ZeroDivisionError:\n",
        "    print(\"0으로 나눌 수 없습니다.\")\n",
        "except ValueError as e:\n",
        "    print(e)\n"
      ],
      "metadata": {
        "colab": {
          "base_uri": "https://localhost:8080/"
        },
        "id": "WVIj50HmN0KI",
        "outputId": "26c1a750-655d-43cf-ca75-ca6456cd907a"
      },
      "execution_count": null,
      "outputs": [
        {
          "output_type": "stream",
          "name": "stdout",
          "text": [
            "첫 번째 정수를 입력하세요: 3\n",
            "두 번째 정수를 입력하세요: 0\n",
            "연산자를 입력하세요 (+, -, *, /): /\n",
            "0으로 나눌 수 없습니다.\n"
          ]
        }
      ]
    },
    {
      "cell_type": "markdown",
      "source": [
        "<br/>\n",
        "\n",
        "\n",
        "\n",
        "\n"
      ],
      "metadata": {
        "id": "_Vbs-Z-C8OGR"
      }
    },
    {
      "cell_type": "markdown",
      "source": [
        "#**ChatGPT로 복잡한 모델을 만드는 법**\n",
        "\n",
        "\n",
        "---\n",
        "\n",
        "\n",
        "\n"
      ],
      "metadata": {
        "id": "HYt2BP4Y--4o"
      }
    },
    {
      "cell_type": "markdown",
      "source": [
        "\n",
        "\n",
        "*   mnist 손글씨 데이터셋을 분류하는 모델\n",
        "\n"
      ],
      "metadata": {
        "id": "eLuWfgTN_xRY"
      }
    },
    {
      "cell_type": "code",
      "source": [
        "import tensorflow as tf\n",
        "from tensorflow.keras.datasets import mnist\n",
        "from tensorflow.keras.models import Sequential\n",
        "from tensorflow.keras.layers import Flatten, Dense\n",
        "\n",
        "# MNIST 데이터셋 로드 및 전처리\n",
        "(train_images, train_labels), (test_images, test_labels) = mnist.load_data()\n",
        "train_images, test_images = train_images / 255.0, test_images / 255.0\n",
        "\n",
        "# 신경망 모델 생성\n",
        "model = Sequential([\n",
        "    Flatten(input_shape=(28, 28)),  # 이미지를 1차원으로 펼치기\n",
        "    Dense(128, activation='relu'),   # 은닉층 (128개의 뉴런과 ReLU 활성화 함수)\n",
        "    Dense(10, activation='softmax')  # 출력층 (10개의 클래스에 대한 확률 분포)\n",
        "])\n",
        "\n",
        "# 모델 컴파일\n",
        "model.compile(optimizer='adam',\n",
        "              loss='sparse_categorical_crossentropy',\n",
        "              metrics=['accuracy'])\n",
        "\n",
        "# 모델 훈련\n",
        "model.fit(train_images, train_labels, epochs=5)\n",
        "\n",
        "# 테스트 데이터로 정확도 평가\n",
        "test_loss, test_acc = model.evaluate(test_images, test_labels, verbose=2)\n",
        "print('\\n테스트 정확도:', test_acc)\n"
      ],
      "metadata": {
        "colab": {
          "base_uri": "https://localhost:8080/"
        },
        "id": "zcuIey21HSaR",
        "outputId": "2c007c71-c631-4150-928c-a0e4330365f4"
      },
      "execution_count": null,
      "outputs": [
        {
          "output_type": "stream",
          "name": "stdout",
          "text": [
            "Downloading data from https://storage.googleapis.com/tensorflow/tf-keras-datasets/mnist.npz\n",
            "11490434/11490434 [==============================] - 1s 0us/step\n",
            "Epoch 1/5\n",
            "1875/1875 [==============================] - 9s 4ms/step - loss: 0.2587 - accuracy: 0.9258\n",
            "Epoch 2/5\n",
            "1875/1875 [==============================] - 8s 4ms/step - loss: 0.1121 - accuracy: 0.9660\n",
            "Epoch 3/5\n",
            "1875/1875 [==============================] - 7s 4ms/step - loss: 0.0779 - accuracy: 0.9766\n",
            "Epoch 4/5\n",
            "1875/1875 [==============================] - 8s 4ms/step - loss: 0.0578 - accuracy: 0.9829\n",
            "Epoch 5/5\n",
            "1875/1875 [==============================] - 7s 4ms/step - loss: 0.0455 - accuracy: 0.9861\n",
            "313/313 - 1s - loss: 0.0884 - accuracy: 0.9712 - 624ms/epoch - 2ms/step\n",
            "\n",
            "테스트 정확도: 0.9711999893188477\n"
          ]
        }
      ]
    },
    {
      "cell_type": "markdown",
      "source": [
        "* 테스트 데이터셋 일부를 불러와 이미지로 그려보고 모델의 손글씨 인식값과 실제 정답을 함께 표시하는 코드"
      ],
      "metadata": {
        "id": "-km277hP_8VO"
      }
    },
    {
      "cell_type": "code",
      "source": [
        "import numpy as np\n",
        "import matplotlib.pyplot as plt\n",
        "from tensorflow.keras.datasets import mnist\n",
        "from tensorflow.keras.models import load_model\n",
        "\n",
        "# MNIST 데이터셋 로드 및 전처리\n",
        "(_, _), (test_images, test_labels) = mnist.load_data()\n",
        "test_images = test_images / 255.0\n",
        "\n",
        "# 모델 로드\n",
        "#model = load_model('mnist_model.h5')  # 모델 파일 경로를 적절히 수정하세요\n",
        "\n",
        "# 테스트 데이터셋에서 이미지와 레이블 가져오기\n",
        "num_samples = 5  # 시각화할 이미지 개수\n",
        "sample_indices = np.random.choice(len(test_images), num_samples, replace=False)\n",
        "sample_images = test_images[sample_indices]\n",
        "sample_labels = test_labels[sample_indices]\n",
        "\n",
        "# 이미지 시각화 및 모델 예측\n",
        "predictions = model.predict(sample_images)\n",
        "predicted_labels = np.argmax(predictions, axis=1)\n",
        "\n",
        "# 이미지와 예측값 그리기\n",
        "plt.figure(figsize=(12, 8))\n",
        "for i in range(num_samples):\n",
        "    plt.subplot(1, num_samples, i + 1)\n",
        "    plt.imshow(sample_images[i], cmap='gray')\n",
        "    plt.title(f\"Predicted: {predicted_labels[i]}\\nTrue: {sample_labels[i]}\", fontsize=10)\n",
        "    plt.axis('off')\n",
        "plt.show()\n"
      ],
      "metadata": {
        "colab": {
          "base_uri": "https://localhost:8080/",
          "height": 250
        },
        "id": "Wdtq45I_RF2q",
        "outputId": "769760e2-9071-45c6-d0e8-7dc879aec3cd"
      },
      "execution_count": null,
      "outputs": [
        {
          "output_type": "stream",
          "name": "stdout",
          "text": [
            "1/1 [==============================] - 0s 102ms/step\n"
          ]
        },
        {
          "output_type": "display_data",
          "data": {
            "text/plain": [
              "<Figure size 1200x800 with 5 Axes>"
            ],
            "image/png": "[encoded data removed]"
          },
          "metadata": {}
        }
      ]
    },
    {
      "cell_type": "markdown",
      "source": [
        "<br/>"
      ],
      "metadata": {
        "id": "5XhekpEoBaAP"
      }
    },
    {
      "cell_type": "markdown",
      "source": [
        "# **ChatGPT로 알고리즘 복잡도를 측정하는 법**\n",
        "---\n",
        "\n",
        "\n",
        "\n"
      ],
      "metadata": {
        "id": "E11t1tSBBcX5"
      }
    },
    {
      "cell_type": "code",
      "source": [
        "import time\n",
        "import matplotlib.pyplot as plt\n",
        "\n",
        "# 재귀적인 방법으로 피보나치 수열 계산\n",
        "def fibonacci_recursive(n):\n",
        "    if n <= 0:\n",
        "        return 0\n",
        "    elif n == 1:\n",
        "        return 1\n",
        "    else:\n",
        "        return fibonacci_recursive(n - 1) + fibonacci_recursive(n - 2)\n",
        "\n",
        "n_values = list(range(1, 21))  # n 값의 범위 설정 (1부터 20까지)\n",
        "execution_times = []\n",
        "\n",
        "# 각 n 값에 대한 함수 실행 시간 측정\n",
        "for n in n_values:\n",
        "    start_time = time.time()\n",
        "    fibonacci_recursive(n)\n",
        "    end_time = time.time()\n",
        "    execution_times.append(end_time - start_time)\n",
        "\n",
        "# 그래프 그리기\n",
        "plt.plot(n_values, execution_times, marker='o')\n",
        "plt.xlabel('n (피보나치 수열의 항)')\n",
        "plt.ylabel('Time (Seconds)')\n",
        "plt.title('Fibonacci Time Complexity')\n",
        "plt.grid(True)\n",
        "plt.show()\n"
      ],
      "metadata": {
        "colab": {
          "base_uri": "https://localhost:8080/",
          "height": 472
        },
        "id": "Wzftp72gXpzb",
        "outputId": "98b67ccc-599b-48c4-b233-a9d7a0709c76"
      },
      "execution_count": null,
      "outputs": [
        {
          "output_type": "display_data",
          "data": {
            "text/plain": [
              "<Figure size 640x480 with 1 Axes>"
            ],
            "image/png": "[encoded data removed]"
          },
          "metadata": {}
        }
      ]
    },
    {
      "cell_type": "markdown",
      "source": [
        "<br/>"
      ],
      "metadata": {
        "id": "LxoWGA5XB_G8"
      }
    },
    {
      "cell_type": "markdown",
      "source": [
        "# **코드 리팩토링에 ChatGPT 활용하기**\n",
        "---\n"
      ],
      "metadata": {
        "id": "lE2FAmwxCC2m"
      }
    },
    {
      "cell_type": "markdown",
      "source": [
        "* 최대값 찾기 (리팩토링 전)"
      ],
      "metadata": {
        "id": "r8f3X3XkCgcH"
      }
    },
    {
      "cell_type": "code",
      "source": [
        "\n",
        "def max_value(numbers) :\n",
        "     max_val = None\n",
        "     for num in numbers :\n",
        "          if max_val is None or num > max_val :\n",
        "              max_val = num\n",
        "     return max_val"
      ],
      "metadata": {
        "id": "eL96kQdezH7K"
      },
      "execution_count": null,
      "outputs": []
    },
    {
      "cell_type": "markdown",
      "source": [
        "* 최대값 찾기 (리팩토링 후)"
      ],
      "metadata": {
        "id": "vdLVNGgvCzBU"
      }
    },
    {
      "cell_type": "code",
      "source": [
        "def max_value(numbers):\n",
        "    return max(numbers) if numbers else None\n"
      ],
      "metadata": {
        "id": "GpnM5JPO0jwS"
      },
      "execution_count": null,
      "outputs": []
    },
    {
      "cell_type": "markdown",
      "source": [
        "* 소수 찾기 (리팩토링 전)"
      ],
      "metadata": {
        "id": "wNnSlZECC2aT"
      }
    },
    {
      "cell_type": "code",
      "source": [
        "def find_primes(limit) :\n",
        "  primes = []\n",
        "  for num in range(2, limit+1):\n",
        "    is_prime = True\n",
        "    for i in range(2, num):\n",
        "      if (num % i) == 0:\n",
        "        is_prime = False\n",
        "        break\n",
        "    if is_prime:\n",
        "      primes.append(num)\n",
        "  return primes\n",
        "\n"
      ],
      "metadata": {
        "id": "_AlBYyShzIwg"
      },
      "execution_count": null,
      "outputs": []
    },
    {
      "cell_type": "markdown",
      "source": [
        "<br/>\n"
      ],
      "metadata": {
        "id": "iqfQu19qC_QX"
      }
    },
    {
      "cell_type": "markdown",
      "source": [
        "# **ChatGPT를 활용해 데이터 전처리 하기**\n",
        "---"
      ],
      "metadata": {
        "id": "Oxs6I88BDCtl"
      }
    },
    {
      "cell_type": "code",
      "source": [
        "import numpy as np\n",
        "import matplotlib.pyplot as plt\n",
        "\n",
        "# 예시 샘플 생성\n",
        "np.random.seed(0)\n",
        "data = np.random.normal(0, 1, 100)  # 정규 분포를 따르는 데이터\n",
        "data[98] = 10  # 이상치 추가\n",
        "\n",
        "# IQR 방법을 사용한 이상치 처리\n",
        "Q1 = np.percentile(data, 25)\n",
        "Q3 = np.percentile(data, 75)\n",
        "IQR = Q3 - Q1\n",
        "lower_bound = Q1 - 1.5 * IQR\n",
        "upper_bound = Q3 + 1.5 * IQR\n",
        "\n",
        "processed_data = data[(data >= lower_bound) & (data <= upper_bound)]\n",
        "\n",
        "# 결과 시각화\n",
        "plt.figure(figsize=(10, 6))\n",
        "\n",
        "plt.subplot(2, 1, 1)\n",
        "plt.boxplot(data, vert=False)\n",
        "plt.title(\"Original Data with Outlier\")\n",
        "\n",
        "plt.subplot(2, 1, 2)\n",
        "plt.boxplot(processed_data, vert=False)\n",
        "plt.title(\"Processed Data without Outlier\")\n",
        "\n",
        "plt.tight_layout()\n",
        "plt.show()\n"
      ],
      "metadata": {
        "colab": {
          "base_uri": "https://localhost:8080/",
          "height": 607
        },
        "id": "VGu7lQbu1Uy3",
        "outputId": "b3946b21-1b16-4e60-a749-c37e24a2bd68"
      },
      "execution_count": null,
      "outputs": [
        {
          "output_type": "display_data",
          "data": {
            "text/plain": [
              "<Figure size 1000x600 with 2 Axes>"
            ],
            "image/png": "[encoded data removed]"
          },
          "metadata": {}
        }
      ]
    },
    {
      "cell_type": "code",
      "source": [
        "import numpy as np\n",
        "import matplotlib.pyplot as plt\n",
        "\n",
        "# 예시 샘플 생성\n",
        "np.random.seed(0)\n",
        "data = np.random.normal(0, 1, 100)  # 정규 분포를 따르는 데이터\n",
        "data[98] = 10  # 이상치 추가\n",
        "\n",
        "# IQR 방법을 사용한 이상치 처리\n",
        "Q1 = np.percentile(data, 25)\n",
        "Q3 = np.percentile(data, 75)\n",
        "IQR = Q3 - Q1\n",
        "lower_bound = Q1 - 1.5 * IQR\n",
        "upper_bound = Q3 + 1.5 * IQR\n",
        "\n",
        "processed_data = data[(data >= lower_bound) & (data <= upper_bound)]\n",
        "\n",
        "# 결과 시각화\n",
        "plt.figure(figsize=(10, 6))\n",
        "\n",
        "plt.subplot(2, 1, 1)\n",
        "plt.boxplot(data, vert=False)\n",
        "plt.title(\"Original Data with Outlier\")\n",
        "\n",
        "plt.subplot(2, 1, 2)\n",
        "plt.boxplot(processed_data, vert=False)\n",
        "plt.title(\"Processed Data without Outlier\")\n",
        "\n",
        "plt.tight_layout()\n",
        "plt.show()\n",
        "\n",
        "# 분포의 차이 설명\n",
        "original_mean = np.mean(data)\n",
        "processed_mean = np.mean(processed_data)\n",
        "\n",
        "print(\"Original Data Mean:\", original_mean)\n",
        "print(\"Processed Data Mean:\", processed_mean)\n"
      ],
      "metadata": {
        "colab": {
          "base_uri": "https://localhost:8080/",
          "height": 644
        },
        "id": "2uMlbJdW57eC",
        "outputId": "6823a4fd-a460-4eb5-d805-dee80528d2a5"
      },
      "execution_count": null,
      "outputs": [
        {
          "output_type": "display_data",
          "data": {
            "text/plain": [
              "<Figure size 1000x600 with 2 Axes>"
            ],
            "image/png": "[encoded data removed]"
          },
          "metadata": {}
        },
        {
          "output_type": "stream",
          "name": "stdout",
          "text": [
            "Original Data Mean: 0.1585388946074488\n",
            "Processed Data Mean: 0.05913019657318061\n"
          ]
        }
      ]
    },
    {
      "cell_type": "markdown",
      "source": [
        "<br/>"
      ],
      "metadata": {
        "id": "2txt-a9KD1Hg"
      }
    },
    {
      "cell_type": "markdown",
      "source": [
        "# **데이터 특성을 알려주고, 적합한 딥러닝/기계학습 모델 선정하기**\n",
        "---"
      ],
      "metadata": {
        "id": "rDgiWXk_D3po"
      }
    },
    {
      "cell_type": "code",
      "source": [
        "import numpy as np\n",
        "import pandas as pd\n",
        "from sklearn.datasets import load_iris\n",
        "from sklearn.model_selection import train_test_split\n",
        "from sklearn.preprocessing import LabelEncoder\n",
        "from sklearn.preprocessing import StandardScaler\n",
        "from tensorflow.keras.models import Sequential\n",
        "from tensorflow.keras.layers import Dense\n",
        "\n",
        "# Iris 데이터셋 로드\n",
        "iris_data = load_iris()\n",
        "X = iris_data.data\n",
        "y = iris_data.target\n",
        "\n",
        "# 레이블 인코딩\n",
        "encoder = LabelEncoder()\n",
        "y = encoder.fit_transform(y)\n",
        "\n",
        "# 데이터 표준화\n",
        "scaler = StandardScaler()\n",
        "X_scaled = scaler.fit_transform(X)\n",
        "\n",
        "# 훈련 데이터와 테스트 데이터 분리\n",
        "X_train, X_test, y_train, y_test = train_test_split(X_scaled, y, test_size=0.2, random_state=42)\n",
        "\n",
        "# 신경망 모델 구성\n",
        "model = Sequential([\n",
        "    Dense(16, activation='relu', input_shape=(X_train.shape[1],)),\n",
        "    Dense(8, activation='relu'),\n",
        "    Dense(3, activation='softmax')\n",
        "])\n",
        "\n",
        "# 모델 컴파일\n",
        "model.compile(loss='sparse_categorical_crossentropy', optimizer='adam', metrics=['accuracy'])\n",
        "\n",
        "# 모델 훈련\n",
        "model.fit(X_train, y_train, epochs=50, batch_size=32, validation_data=(X_test, y_test))\n",
        "\n",
        "# 테스트 데이터로 평가\n",
        "test_loss, test_acc = model.evaluate(X_test, y_test)\n",
        "print('\\n테스트 정확도:', test_acc)\n"
      ],
      "metadata": {
        "colab": {
          "base_uri": "https://localhost:8080/"
        },
        "id": "UaNA2JGs9Asj",
        "outputId": "5d4754a5-a35e-41ad-f74d-b76beeb7a248"
      },
      "execution_count": null,
      "outputs": [
        {
          "output_type": "stream",
          "name": "stdout",
          "text": [
            "Epoch 1/50\n",
            "4/4 [==============================] - 4s 372ms/step - loss: 1.1847 - accuracy: 0.3083 - val_loss: 1.0768 - val_accuracy: 0.3667\n",
            "Epoch 2/50\n",
            "4/4 [==============================] - 0s 58ms/step - loss: 1.1381 - accuracy: 0.3167 - val_loss: 1.0341 - val_accuracy: 0.3667\n",
            "Epoch 3/50\n",
            "4/4 [==============================] - 0s 58ms/step - loss: 1.0955 - accuracy: 0.3417 - val_loss: 1.0006 - val_accuracy: 0.3667\n",
            "Epoch 4/50\n",
            "4/4 [==============================] - 0s 30ms/step - loss: 1.0585 - accuracy: 0.4083 - val_loss: 0.9703 - val_accuracy: 0.4667\n",
            "Epoch 5/50\n",
            "4/4 [==============================] - 0s 60ms/step - loss: 1.0242 - accuracy: 0.5083 - val_loss: 0.9421 - val_accuracy: 0.6667\n",
            "Epoch 6/50\n",
            "4/4 [==============================] - 0s 57ms/step - loss: 0.9938 - accuracy: 0.6917 - val_loss: 0.9151 - val_accuracy: 0.7333\n",
            "Epoch 7/50\n",
            "4/4 [==============================] - 0s 64ms/step - loss: 0.9666 - accuracy: 0.7083 - val_loss: 0.8903 - val_accuracy: 0.7333\n",
            "Epoch 8/50\n",
            "4/4 [==============================] - 0s 52ms/step - loss: 0.9399 - accuracy: 0.7417 - val_loss: 0.8665 - val_accuracy: 0.7667\n",
            "Epoch 9/50\n",
            "4/4 [==============================] - 0s 29ms/step - loss: 0.9164 - accuracy: 0.7500 - val_loss: 0.8440 - val_accuracy: 0.8000\n",
            "Epoch 10/50\n",
            "4/4 [==============================] - 0s 31ms/step - loss: 0.8926 - accuracy: 0.7833 - val_loss: 0.8230 - val_accuracy: 0.8333\n",
            "Epoch 11/50\n",
            "4/4 [==============================] - 0s 56ms/step - loss: 0.8708 - accuracy: 0.7917 - val_loss: 0.8028 - val_accuracy: 0.8333\n",
            "Epoch 12/50\n",
            "4/4 [==============================] - 0s 130ms/step - loss: 0.8496 - accuracy: 0.8083 - val_loss: 0.7833 - val_accuracy: 0.8333\n",
            "Epoch 13/50\n",
            "4/4 [==============================] - 0s 125ms/step - loss: 0.8280 - accuracy: 0.8083 - val_loss: 0.7641 - val_accuracy: 0.8333\n",
            "Epoch 14/50\n",
            "4/4 [==============================] - 0s 132ms/step - loss: 0.8061 - accuracy: 0.8083 - val_loss: 0.7439 - val_accuracy: 0.8333\n",
            "Epoch 15/50\n",
            "4/4 [==============================] - 0s 122ms/step - loss: 0.7849 - accuracy: 0.8083 - val_loss: 0.7232 - val_accuracy: 0.8333\n",
            "Epoch 16/50\n",
            "4/4 [==============================] - 0s 117ms/step - loss: 0.7638 - accuracy: 0.8250 - val_loss: 0.7026 - val_accuracy: 0.8333\n",
            "Epoch 17/50\n",
            "4/4 [==============================] - 0s 115ms/step - loss: 0.7425 - accuracy: 0.8250 - val_loss: 0.6812 - val_accuracy: 0.8333\n",
            "Epoch 18/50\n",
            "4/4 [==============================] - 0s 68ms/step - loss: 0.7212 - accuracy: 0.8250 - val_loss: 0.6597 - val_accuracy: 0.8333\n",
            "Epoch 19/50\n",
            "4/4 [==============================] - 0s 60ms/step - loss: 0.7007 - accuracy: 0.8250 - val_loss: 0.6383 - val_accuracy: 0.8333\n",
            "Epoch 20/50\n",
            "4/4 [==============================] - 0s 72ms/step - loss: 0.6800 - accuracy: 0.8333 - val_loss: 0.6181 - val_accuracy: 0.8667\n",
            "Epoch 21/50\n",
            "4/4 [==============================] - 0s 100ms/step - loss: 0.6600 - accuracy: 0.8250 - val_loss: 0.5990 - val_accuracy: 0.8667\n",
            "Epoch 22/50\n",
            "4/4 [==============================] - 0s 25ms/step - loss: 0.6408 - accuracy: 0.8250 - val_loss: 0.5802 - val_accuracy: 0.8667\n",
            "Epoch 23/50\n",
            "4/4 [==============================] - 0s 45ms/step - loss: 0.6220 - accuracy: 0.8250 - val_loss: 0.5621 - val_accuracy: 0.8667\n",
            "Epoch 24/50\n",
            "4/4 [==============================] - 0s 55ms/step - loss: 0.6037 - accuracy: 0.8250 - val_loss: 0.5448 - val_accuracy: 0.8667\n",
            "Epoch 25/50\n",
            "4/4 [==============================] - 0s 57ms/step - loss: 0.5858 - accuracy: 0.8333 - val_loss: 0.5280 - val_accuracy: 0.8667\n",
            "Epoch 26/50\n",
            "4/4 [==============================] - 0s 47ms/step - loss: 0.5690 - accuracy: 0.8333 - val_loss: 0.5114 - val_accuracy: 0.8667\n",
            "Epoch 27/50\n",
            "4/4 [==============================] - 0s 28ms/step - loss: 0.5519 - accuracy: 0.8333 - val_loss: 0.4955 - val_accuracy: 0.8667\n",
            "Epoch 28/50\n",
            "4/4 [==============================] - 0s 28ms/step - loss: 0.5363 - accuracy: 0.8333 - val_loss: 0.4800 - val_accuracy: 0.8667\n",
            "Epoch 29/50\n",
            "4/4 [==============================] - 0s 25ms/step - loss: 0.5209 - accuracy: 0.8333 - val_loss: 0.4650 - val_accuracy: 0.8667\n",
            "Epoch 30/50\n",
            "4/4 [==============================] - 0s 21ms/step - loss: 0.5060 - accuracy: 0.8333 - val_loss: 0.4504 - val_accuracy: 0.9000\n",
            "Epoch 31/50\n",
            "4/4 [==============================] - 0s 25ms/step - loss: 0.4918 - accuracy: 0.8333 - val_loss: 0.4363 - val_accuracy: 0.9000\n",
            "Epoch 32/50\n",
            "4/4 [==============================] - 0s 27ms/step - loss: 0.4784 - accuracy: 0.8417 - val_loss: 0.4229 - val_accuracy: 0.9000\n",
            "Epoch 33/50\n",
            "4/4 [==============================] - 0s 39ms/step - loss: 0.4653 - accuracy: 0.8417 - val_loss: 0.4104 - val_accuracy: 0.9000\n",
            "Epoch 34/50\n",
            "4/4 [==============================] - 0s 51ms/step - loss: 0.4533 - accuracy: 0.8500 - val_loss: 0.3982 - val_accuracy: 0.9000\n",
            "Epoch 35/50\n",
            "4/4 [==============================] - 0s 44ms/step - loss: 0.4414 - accuracy: 0.8583 - val_loss: 0.3865 - val_accuracy: 0.9000\n",
            "Epoch 36/50\n",
            "4/4 [==============================] - 0s 43ms/step - loss: 0.4301 - accuracy: 0.8583 - val_loss: 0.3756 - val_accuracy: 0.9000\n",
            "Epoch 37/50\n",
            "4/4 [==============================] - 0s 18ms/step - loss: 0.4192 - accuracy: 0.8583 - val_loss: 0.3651 - val_accuracy: 0.9000\n",
            "Epoch 38/50\n",
            "4/4 [==============================] - 0s 21ms/step - loss: 0.4091 - accuracy: 0.8583 - val_loss: 0.3548 - val_accuracy: 0.9000\n",
            "Epoch 39/50\n",
            "4/4 [==============================] - 0s 18ms/step - loss: 0.3995 - accuracy: 0.8583 - val_loss: 0.3450 - val_accuracy: 0.9000\n",
            "Epoch 40/50\n",
            "4/4 [==============================] - 0s 20ms/step - loss: 0.3897 - accuracy: 0.8583 - val_loss: 0.3359 - val_accuracy: 0.9000\n",
            "Epoch 41/50\n",
            "4/4 [==============================] - 0s 14ms/step - loss: 0.3811 - accuracy: 0.8583 - val_loss: 0.3273 - val_accuracy: 0.9000\n",
            "Epoch 42/50\n",
            "4/4 [==============================] - 0s 19ms/step - loss: 0.3727 - accuracy: 0.8583 - val_loss: 0.3188 - val_accuracy: 0.9333\n",
            "Epoch 43/50\n",
            "4/4 [==============================] - 0s 13ms/step - loss: 0.3645 - accuracy: 0.8667 - val_loss: 0.3105 - val_accuracy: 0.9333\n",
            "Epoch 44/50\n",
            "4/4 [==============================] - 0s 12ms/step - loss: 0.3565 - accuracy: 0.8917 - val_loss: 0.3029 - val_accuracy: 0.9333\n",
            "Epoch 45/50\n",
            "4/4 [==============================] - 0s 14ms/step - loss: 0.3492 - accuracy: 0.8917 - val_loss: 0.2956 - val_accuracy: 0.9333\n",
            "Epoch 46/50\n",
            "4/4 [==============================] - 0s 14ms/step - loss: 0.3421 - accuracy: 0.9000 - val_loss: 0.2888 - val_accuracy: 0.9333\n",
            "Epoch 47/50\n",
            "4/4 [==============================] - 0s 13ms/step - loss: 0.3351 - accuracy: 0.9000 - val_loss: 0.2826 - val_accuracy: 0.9333\n",
            "Epoch 48/50\n",
            "4/4 [==============================] - 0s 13ms/step - loss: 0.3283 - accuracy: 0.9000 - val_loss: 0.2761 - val_accuracy: 0.9333\n",
            "Epoch 49/50\n",
            "4/4 [==============================] - 0s 14ms/step - loss: 0.3225 - accuracy: 0.9000 - val_loss: 0.2698 - val_accuracy: 0.9333\n",
            "Epoch 50/50\n",
            "4/4 [==============================] - 0s 15ms/step - loss: 0.3155 - accuracy: 0.9083 - val_loss: 0.2641 - val_accuracy: 0.9333\n",
            "1/1 [==============================] - 0s 30ms/step - loss: 0.2641 - accuracy: 0.9333\n",
            "\n",
            "테스트 정확도: 0.9333333373069763\n"
          ]
        }
      ]
    },
    {
      "cell_type": "markdown",
      "source": [
        "<br/><br/><br/>"
      ],
      "metadata": {
        "id": "L3v2UUYDEDMb"
      }
    },
    {
      "cell_type": "markdown",
      "source": [
        "---\n",
        "# **6. ChatGPT API 사용방법_실습**\n",
        "---\n",
        "---"
      ],
      "metadata": {
        "id": "CBCdPFGGEh-2"
      }
    },
    {
      "cell_type": "code",
      "source": [
        "import openai\n",
        "\n",
        "def main():\n",
        "\n",
        "  openai.api_key = \"YOUR_API_KEY\"\n",
        "\n",
        "  response = openai.ChatCompletion.create(\n",
        "    model=\"gpt-3.5-turbo\",\n",
        "    messages=[\n",
        "          {\"role\": \"system\", \"content\": \"You are a helpful assistant.\"},\n",
        "          {\"role\": \"user\", \"content\": \"Who won the world series in 2020?\"},\n",
        "          {\"role\": \"assistant\", \"content\": \"The Los Angeles Dodgers won the World Series in 2020.\"},\n",
        "          {\"role\": \"user\", \"content\": \"Where was it played?\"}\n",
        "      ]\n",
        "  )\n",
        "\n",
        "  output_text = response[\"choices\"][0][\"message\"][\"content\"]\n",
        "  print(output_text)\n"
      ],
      "metadata": {
        "id": "p81q9FhD6x6a"
      },
      "execution_count": null,
      "outputs": []
    }
  ]
}