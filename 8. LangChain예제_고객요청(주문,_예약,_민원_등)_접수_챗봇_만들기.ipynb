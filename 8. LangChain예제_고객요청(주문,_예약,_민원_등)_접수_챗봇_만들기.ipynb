{
  "cells": [
    {
      "cell_type": "code",
      "execution_count": 1,
      "metadata": {
        "colab": {
          "base_uri": "https://localhost:8080/"
        },
        "id": "EUsrMHIgIwbg",
        "outputId": "cb32b9ac-b236-44d4-cb23-fe0c41c41cba"
      },
      "outputs": [
        {
          "output_type": "stream",
          "name": "stdout",
          "text": [
            "Collecting gradio\n",
            "  Downloading gradio-3.44.3-py3-none-any.whl (20.2 MB)\n",
            "\u001b[2K     \u001b[90m━━━━━━━━━━━━━━━━━━━━━━━━━━━━━━━━━━━━━━━━\u001b[0m \u001b[32m20.2/20.2 MB\u001b[0m \u001b[31m44.8 MB/s\u001b[0m eta \u001b[36m0:00:00\u001b[0m\n",
            "\u001b[?25hCollecting aiofiles<24.0,>=22.0 (from gradio)\n",
            "  Downloading aiofiles-23.2.1-py3-none-any.whl (15 kB)\n",
            "Requirement already satisfied: altair<6.0,>=4.2.0 in /usr/local/lib/python3.10/dist-packages (from gradio) (4.2.2)\n",
            "Collecting fastapi (from gradio)\n",
            "  Downloading fastapi-0.103.1-py3-none-any.whl (66 kB)\n",
            "\u001b[2K     \u001b[90m━━━━━━━━━━━━━━━━━━━━━━━━━━━━━━━━━━━━━━━━\u001b[0m \u001b[32m66.2/66.2 kB\u001b[0m \u001b[31m8.0 MB/s\u001b[0m eta \u001b[36m0:00:00\u001b[0m\n",
            "\u001b[?25hCollecting ffmpy (from gradio)\n",
            "  Downloading ffmpy-0.3.1.tar.gz (5.5 kB)\n",
            "  Preparing metadata (setup.py) ... \u001b[?25l\u001b[?25hdone\n",
            "Collecting gradio-client==0.5.0 (from gradio)\n",
            "  Downloading gradio_client-0.5.0-py3-none-any.whl (298 kB)\n",
            "\u001b[2K     \u001b[90m━━━━━━━━━━━━━━━━━━━━━━━━━━━━━━━━━━━━━━\u001b[0m \u001b[32m298.2/298.2 kB\u001b[0m \u001b[31m23.0 MB/s\u001b[0m eta \u001b[36m0:00:00\u001b[0m\n",
            "\u001b[?25hCollecting httpx (from gradio)\n",
            "  Downloading httpx-0.25.0-py3-none-any.whl (75 kB)\n",
            "\u001b[2K     \u001b[90m━━━━━━━━━━━━━━━━━━━━━━━━━━━━━━━━━━━━━━━━\u001b[0m \u001b[32m75.7/75.7 kB\u001b[0m \u001b[31m8.6 MB/s\u001b[0m eta \u001b[36m0:00:00\u001b[0m\n",
            "\u001b[?25hCollecting huggingface-hub>=0.14.0 (from gradio)\n",
            "  Downloading huggingface_hub-0.17.1-py3-none-any.whl (294 kB)\n",
            "\u001b[2K     \u001b[90m━━━━━━━━━━━━━━━━━━━━━━━━━━━━━━━━━━━━━━\u001b[0m \u001b[32m294.8/294.8 kB\u001b[0m \u001b[31m27.6 MB/s\u001b[0m eta \u001b[36m0:00:00\u001b[0m\n",
            "\u001b[?25hRequirement already satisfied: importlib-resources<7.0,>=1.3 in /usr/local/lib/python3.10/dist-packages (from gradio) (6.0.1)\n",
            "Requirement already satisfied: jinja2<4.0 in /usr/local/lib/python3.10/dist-packages (from gradio) (3.1.2)\n",
            "Requirement already satisfied: markupsafe~=2.0 in /usr/local/lib/python3.10/dist-packages (from gradio) (2.1.3)\n",
            "Requirement already satisfied: matplotlib~=3.0 in /usr/local/lib/python3.10/dist-packages (from gradio) (3.7.1)\n",
            "Requirement already satisfied: numpy~=1.0 in /usr/local/lib/python3.10/dist-packages (from gradio) (1.23.5)\n",
            "Collecting orjson~=3.0 (from gradio)\n",
            "  Downloading orjson-3.9.7-cp310-cp310-manylinux_2_17_x86_64.manylinux2014_x86_64.whl (138 kB)\n",
            "\u001b[2K     \u001b[90m━━━━━━━━━━━━━━━━━━━━━━━━━━━━━━━━━━━━━━\u001b[0m \u001b[32m138.7/138.7 kB\u001b[0m \u001b[31m13.4 MB/s\u001b[0m eta \u001b[36m0:00:00\u001b[0m\n",
            "\u001b[?25hRequirement already satisfied: packaging in /usr/local/lib/python3.10/dist-packages (from gradio) (23.1)\n",
            "Requirement already satisfied: pandas<3.0,>=1.0 in /usr/local/lib/python3.10/dist-packages (from gradio) (1.5.3)\n",
            "Requirement already satisfied: pillow<11.0,>=8.0 in /usr/local/lib/python3.10/dist-packages (from gradio) (9.4.0)\n",
            "Requirement already satisfied: pydantic!=1.8,!=1.8.1,!=2.0.0,!=2.0.1,<3.0.0,>=1.7.4 in /usr/local/lib/python3.10/dist-packages (from gradio) (1.10.12)\n",
            "Collecting pydub (from gradio)\n",
            "  Downloading pydub-0.25.1-py2.py3-none-any.whl (32 kB)\n",
            "Collecting python-multipart (from gradio)\n",
            "  Downloading python_multipart-0.0.6-py3-none-any.whl (45 kB)\n",
            "\u001b[2K     \u001b[90m━━━━━━━━━━━━━━━━━━━━━━━━━━━━━━━━━━━━━━━━\u001b[0m \u001b[32m45.7/45.7 kB\u001b[0m \u001b[31m5.7 MB/s\u001b[0m eta \u001b[36m0:00:00\u001b[0m\n",
            "\u001b[?25hRequirement already satisfied: pyyaml<7.0,>=5.0 in /usr/local/lib/python3.10/dist-packages (from gradio) (6.0.1)\n",
            "Requirement already satisfied: requests~=2.0 in /usr/local/lib/python3.10/dist-packages (from gradio) (2.31.0)\n",
            "Collecting semantic-version~=2.0 (from gradio)\n",
            "  Downloading semantic_version-2.10.0-py2.py3-none-any.whl (15 kB)\n",
            "Requirement already satisfied: typing-extensions~=4.0 in /usr/local/lib/python3.10/dist-packages (from gradio) (4.5.0)\n",
            "Collecting uvicorn>=0.14.0 (from gradio)\n",
            "  Downloading uvicorn-0.23.2-py3-none-any.whl (59 kB)\n",
            "\u001b[2K     \u001b[90m━━━━━━━━━━━━━━━━━━━━━━━━━━━━━━━━━━━━━━━━\u001b[0m \u001b[32m59.5/59.5 kB\u001b[0m \u001b[31m8.3 MB/s\u001b[0m eta \u001b[36m0:00:00\u001b[0m\n",
            "\u001b[?25hCollecting websockets<12.0,>=10.0 (from gradio)\n",
            "  Downloading websockets-11.0.3-cp310-cp310-manylinux_2_5_x86_64.manylinux1_x86_64.manylinux_2_17_x86_64.manylinux2014_x86_64.whl (129 kB)\n",
            "\u001b[2K     \u001b[90m━━━━━━━━━━━━━━━━━━━━━━━━━━━━━━━━━━━━━━\u001b[0m \u001b[32m129.9/129.9 kB\u001b[0m \u001b[31m15.7 MB/s\u001b[0m eta \u001b[36m0:00:00\u001b[0m\n",
            "\u001b[?25hRequirement already satisfied: fsspec in /usr/local/lib/python3.10/dist-packages (from gradio-client==0.5.0->gradio) (2023.6.0)\n",
            "Requirement already satisfied: entrypoints in /usr/local/lib/python3.10/dist-packages (from altair<6.0,>=4.2.0->gradio) (0.4)\n",
            "Requirement already satisfied: jsonschema>=3.0 in /usr/local/lib/python3.10/dist-packages (from altair<6.0,>=4.2.0->gradio) (4.19.0)\n",
            "Requirement already satisfied: toolz in /usr/local/lib/python3.10/dist-packages (from altair<6.0,>=4.2.0->gradio) (0.12.0)\n",
            "Requirement already satisfied: filelock in /usr/local/lib/python3.10/dist-packages (from huggingface-hub>=0.14.0->gradio) (3.12.2)\n",
            "Requirement already satisfied: tqdm>=4.42.1 in /usr/local/lib/python3.10/dist-packages (from huggingface-hub>=0.14.0->gradio) (4.66.1)\n",
            "Requirement already satisfied: contourpy>=1.0.1 in /usr/local/lib/python3.10/dist-packages (from matplotlib~=3.0->gradio) (1.1.0)\n",
            "Requirement already satisfied: cycler>=0.10 in /usr/local/lib/python3.10/dist-packages (from matplotlib~=3.0->gradio) (0.11.0)\n",
            "Requirement already satisfied: fonttools>=4.22.0 in /usr/local/lib/python3.10/dist-packages (from matplotlib~=3.0->gradio) (4.42.1)\n",
            "Requirement already satisfied: kiwisolver>=1.0.1 in /usr/local/lib/python3.10/dist-packages (from matplotlib~=3.0->gradio) (1.4.5)\n",
            "Requirement already satisfied: pyparsing>=2.3.1 in /usr/local/lib/python3.10/dist-packages (from matplotlib~=3.0->gradio) (3.1.1)\n",
            "Requirement already satisfied: python-dateutil>=2.7 in /usr/local/lib/python3.10/dist-packages (from matplotlib~=3.0->gradio) (2.8.2)\n",
            "Requirement already satisfied: pytz>=2020.1 in /usr/local/lib/python3.10/dist-packages (from pandas<3.0,>=1.0->gradio) (2023.3.post1)\n",
            "Requirement already satisfied: charset-normalizer<4,>=2 in /usr/local/lib/python3.10/dist-packages (from requests~=2.0->gradio) (3.2.0)\n",
            "Requirement already satisfied: idna<4,>=2.5 in /usr/local/lib/python3.10/dist-packages (from requests~=2.0->gradio) (3.4)\n",
            "Requirement already satisfied: urllib3<3,>=1.21.1 in /usr/local/lib/python3.10/dist-packages (from requests~=2.0->gradio) (2.0.4)\n",
            "Requirement already satisfied: certifi>=2017.4.17 in /usr/local/lib/python3.10/dist-packages (from requests~=2.0->gradio) (2023.7.22)\n",
            "Requirement already satisfied: click>=7.0 in /usr/local/lib/python3.10/dist-packages (from uvicorn>=0.14.0->gradio) (8.1.7)\n",
            "Collecting h11>=0.8 (from uvicorn>=0.14.0->gradio)\n",
            "  Downloading h11-0.14.0-py3-none-any.whl (58 kB)\n",
            "\u001b[2K     \u001b[90m━━━━━━━━━━━━━━━━━━━━━━━━━━━━━━━━━━━━━━━━\u001b[0m \u001b[32m58.3/58.3 kB\u001b[0m \u001b[31m6.6 MB/s\u001b[0m eta \u001b[36m0:00:00\u001b[0m\n",
            "\u001b[?25hRequirement already satisfied: anyio<4.0.0,>=3.7.1 in /usr/local/lib/python3.10/dist-packages (from fastapi->gradio) (3.7.1)\n",
            "Collecting starlette<0.28.0,>=0.27.0 (from fastapi->gradio)\n",
            "  Downloading starlette-0.27.0-py3-none-any.whl (66 kB)\n",
            "\u001b[2K     \u001b[90m━━━━━━━━━━━━━━━━━━━━━━━━━━━━━━━━━━━━━━━━\u001b[0m \u001b[32m67.0/67.0 kB\u001b[0m \u001b[31m7.8 MB/s\u001b[0m eta \u001b[36m0:00:00\u001b[0m\n",
            "\u001b[?25hCollecting httpcore<0.19.0,>=0.18.0 (from httpx->gradio)\n",
            "  Downloading httpcore-0.18.0-py3-none-any.whl (76 kB)\n",
            "\u001b[2K     \u001b[90m━━━━━━━━━━━━━━━━━━━━━━━━━━━━━━━━━━━━━━━━\u001b[0m \u001b[32m76.0/76.0 kB\u001b[0m \u001b[31m9.4 MB/s\u001b[0m eta \u001b[36m0:00:00\u001b[0m\n",
            "\u001b[?25hRequirement already satisfied: sniffio in /usr/local/lib/python3.10/dist-packages (from httpx->gradio) (1.3.0)\n",
            "Requirement already satisfied: exceptiongroup in /usr/local/lib/python3.10/dist-packages (from anyio<4.0.0,>=3.7.1->fastapi->gradio) (1.1.3)\n",
            "Requirement already satisfied: attrs>=22.2.0 in /usr/local/lib/python3.10/dist-packages (from jsonschema>=3.0->altair<6.0,>=4.2.0->gradio) (23.1.0)\n",
            "Requirement already satisfied: jsonschema-specifications>=2023.03.6 in /usr/local/lib/python3.10/dist-packages (from jsonschema>=3.0->altair<6.0,>=4.2.0->gradio) (2023.7.1)\n",
            "Requirement already satisfied: referencing>=0.28.4 in /usr/local/lib/python3.10/dist-packages (from jsonschema>=3.0->altair<6.0,>=4.2.0->gradio) (0.30.2)\n",
            "Requirement already satisfied: rpds-py>=0.7.1 in /usr/local/lib/python3.10/dist-packages (from jsonschema>=3.0->altair<6.0,>=4.2.0->gradio) (0.10.2)\n",
            "Requirement already satisfied: six>=1.5 in /usr/local/lib/python3.10/dist-packages (from python-dateutil>=2.7->matplotlib~=3.0->gradio) (1.16.0)\n",
            "Building wheels for collected packages: ffmpy\n",
            "  Building wheel for ffmpy (setup.py) ... \u001b[?25l\u001b[?25hdone\n",
            "  Created wheel for ffmpy: filename=ffmpy-0.3.1-py3-none-any.whl size=5579 sha256=7500707af2c21307fd869e52df1381c24adc3283a30ea5bf822eec3f8d3dad55\n",
            "  Stored in directory: /root/.cache/pip/wheels/01/a6/d1/1c0828c304a4283b2c1639a09ad86f83d7c487ef34c6b4a1bf\n",
            "Successfully built ffmpy\n",
            "Installing collected packages: pydub, ffmpy, websockets, semantic-version, python-multipart, orjson, h11, aiofiles, uvicorn, starlette, huggingface-hub, httpcore, httpx, fastapi, gradio-client, gradio\n",
            "Successfully installed aiofiles-23.2.1 fastapi-0.103.1 ffmpy-0.3.1 gradio-3.44.3 gradio-client-0.5.0 h11-0.14.0 httpcore-0.18.0 httpx-0.25.0 huggingface-hub-0.17.1 orjson-3.9.7 pydub-0.25.1 python-multipart-0.0.6 semantic-version-2.10.0 starlette-0.27.0 uvicorn-0.23.2 websockets-11.0.3\n",
            "Collecting openai\n",
            "  Downloading openai-0.28.0-py3-none-any.whl (76 kB)\n",
            "\u001b[2K     \u001b[90m━━━━━━━━━━━━━━━━━━━━━━━━━━━━━━━━━━━━━━━━\u001b[0m \u001b[32m76.5/76.5 kB\u001b[0m \u001b[31m1.7 MB/s\u001b[0m eta \u001b[36m0:00:00\u001b[0m\n",
            "\u001b[?25hRequirement already satisfied: requests>=2.20 in /usr/local/lib/python3.10/dist-packages (from openai) (2.31.0)\n",
            "Requirement already satisfied: tqdm in /usr/local/lib/python3.10/dist-packages (from openai) (4.66.1)\n",
            "Requirement already satisfied: aiohttp in /usr/local/lib/python3.10/dist-packages (from openai) (3.8.5)\n",
            "Requirement already satisfied: charset-normalizer<4,>=2 in /usr/local/lib/python3.10/dist-packages (from requests>=2.20->openai) (3.2.0)\n",
            "Requirement already satisfied: idna<4,>=2.5 in /usr/local/lib/python3.10/dist-packages (from requests>=2.20->openai) (3.4)\n",
            "Requirement already satisfied: urllib3<3,>=1.21.1 in /usr/local/lib/python3.10/dist-packages (from requests>=2.20->openai) (2.0.4)\n",
            "Requirement already satisfied: certifi>=2017.4.17 in /usr/local/lib/python3.10/dist-packages (from requests>=2.20->openai) (2023.7.22)\n",
            "Requirement already satisfied: attrs>=17.3.0 in /usr/local/lib/python3.10/dist-packages (from aiohttp->openai) (23.1.0)\n",
            "Requirement already satisfied: multidict<7.0,>=4.5 in /usr/local/lib/python3.10/dist-packages (from aiohttp->openai) (6.0.4)\n",
            "Requirement already satisfied: async-timeout<5.0,>=4.0.0a3 in /usr/local/lib/python3.10/dist-packages (from aiohttp->openai) (4.0.3)\n",
            "Requirement already satisfied: yarl<2.0,>=1.0 in /usr/local/lib/python3.10/dist-packages (from aiohttp->openai) (1.9.2)\n",
            "Requirement already satisfied: frozenlist>=1.1.1 in /usr/local/lib/python3.10/dist-packages (from aiohttp->openai) (1.4.0)\n",
            "Requirement already satisfied: aiosignal>=1.1.2 in /usr/local/lib/python3.10/dist-packages (from aiohttp->openai) (1.3.1)\n",
            "Installing collected packages: openai\n",
            "Successfully installed openai-0.28.0\n",
            "Collecting langchain\n",
            "  Downloading langchain-0.0.292-py3-none-any.whl (1.7 MB)\n",
            "\u001b[2K     \u001b[90m━━━━━━━━━━━━━━━━━━━━━━━━━━━━━━━━━━━━━━━━\u001b[0m \u001b[32m1.7/1.7 MB\u001b[0m \u001b[31m10.6 MB/s\u001b[0m eta \u001b[36m0:00:00\u001b[0m\n",
            "\u001b[?25hRequirement already satisfied: PyYAML>=5.3 in /usr/local/lib/python3.10/dist-packages (from langchain) (6.0.1)\n",
            "Requirement already satisfied: SQLAlchemy<3,>=1.4 in /usr/local/lib/python3.10/dist-packages (from langchain) (2.0.20)\n",
            "Requirement already satisfied: aiohttp<4.0.0,>=3.8.3 in /usr/local/lib/python3.10/dist-packages (from langchain) (3.8.5)\n",
            "Requirement already satisfied: async-timeout<5.0.0,>=4.0.0 in /usr/local/lib/python3.10/dist-packages (from langchain) (4.0.3)\n",
            "Collecting dataclasses-json<0.6.0,>=0.5.7 (from langchain)\n",
            "  Downloading dataclasses_json-0.5.14-py3-none-any.whl (26 kB)\n",
            "Collecting langsmith<0.1.0,>=0.0.21 (from langchain)\n",
            "  Downloading langsmith-0.0.37-py3-none-any.whl (38 kB)\n",
            "Requirement already satisfied: numexpr<3.0.0,>=2.8.4 in /usr/local/lib/python3.10/dist-packages (from langchain) (2.8.5)\n",
            "Requirement already satisfied: numpy<2,>=1 in /usr/local/lib/python3.10/dist-packages (from langchain) (1.23.5)\n",
            "Requirement already satisfied: pydantic<3,>=1 in /usr/local/lib/python3.10/dist-packages (from langchain) (1.10.12)\n",
            "Requirement already satisfied: requests<3,>=2 in /usr/local/lib/python3.10/dist-packages (from langchain) (2.31.0)\n",
            "Requirement already satisfied: tenacity<9.0.0,>=8.1.0 in /usr/local/lib/python3.10/dist-packages (from langchain) (8.2.3)\n",
            "Requirement already satisfied: attrs>=17.3.0 in /usr/local/lib/python3.10/dist-packages (from aiohttp<4.0.0,>=3.8.3->langchain) (23.1.0)\n",
            "Requirement already satisfied: charset-normalizer<4.0,>=2.0 in /usr/local/lib/python3.10/dist-packages (from aiohttp<4.0.0,>=3.8.3->langchain) (3.2.0)\n",
            "Requirement already satisfied: multidict<7.0,>=4.5 in /usr/local/lib/python3.10/dist-packages (from aiohttp<4.0.0,>=3.8.3->langchain) (6.0.4)\n",
            "Requirement already satisfied: yarl<2.0,>=1.0 in /usr/local/lib/python3.10/dist-packages (from aiohttp<4.0.0,>=3.8.3->langchain) (1.9.2)\n",
            "Requirement already satisfied: frozenlist>=1.1.1 in /usr/local/lib/python3.10/dist-packages (from aiohttp<4.0.0,>=3.8.3->langchain) (1.4.0)\n",
            "Requirement already satisfied: aiosignal>=1.1.2 in /usr/local/lib/python3.10/dist-packages (from aiohttp<4.0.0,>=3.8.3->langchain) (1.3.1)\n",
            "Collecting marshmallow<4.0.0,>=3.18.0 (from dataclasses-json<0.6.0,>=0.5.7->langchain)\n",
            "  Downloading marshmallow-3.20.1-py3-none-any.whl (49 kB)\n",
            "\u001b[2K     \u001b[90m━━━━━━━━━━━━━━━━━━━━━━━━━━━━━━━━━━━━━━━━\u001b[0m \u001b[32m49.4/49.4 kB\u001b[0m \u001b[31m5.4 MB/s\u001b[0m eta \u001b[36m0:00:00\u001b[0m\n",
            "\u001b[?25hCollecting typing-inspect<1,>=0.4.0 (from dataclasses-json<0.6.0,>=0.5.7->langchain)\n",
            "  Downloading typing_inspect-0.9.0-py3-none-any.whl (8.8 kB)\n",
            "Requirement already satisfied: typing-extensions>=4.2.0 in /usr/local/lib/python3.10/dist-packages (from pydantic<3,>=1->langchain) (4.5.0)\n",
            "Requirement already satisfied: idna<4,>=2.5 in /usr/local/lib/python3.10/dist-packages (from requests<3,>=2->langchain) (3.4)\n",
            "Requirement already satisfied: urllib3<3,>=1.21.1 in /usr/local/lib/python3.10/dist-packages (from requests<3,>=2->langchain) (2.0.4)\n",
            "Requirement already satisfied: certifi>=2017.4.17 in /usr/local/lib/python3.10/dist-packages (from requests<3,>=2->langchain) (2023.7.22)\n",
            "Requirement already satisfied: greenlet!=0.4.17 in /usr/local/lib/python3.10/dist-packages (from SQLAlchemy<3,>=1.4->langchain) (2.0.2)\n",
            "Requirement already satisfied: packaging>=17.0 in /usr/local/lib/python3.10/dist-packages (from marshmallow<4.0.0,>=3.18.0->dataclasses-json<0.6.0,>=0.5.7->langchain) (23.1)\n",
            "Collecting mypy-extensions>=0.3.0 (from typing-inspect<1,>=0.4.0->dataclasses-json<0.6.0,>=0.5.7->langchain)\n",
            "  Downloading mypy_extensions-1.0.0-py3-none-any.whl (4.7 kB)\n",
            "Installing collected packages: mypy-extensions, marshmallow, typing-inspect, langsmith, dataclasses-json, langchain\n",
            "Successfully installed dataclasses-json-0.5.14 langchain-0.0.292 langsmith-0.0.37 marshmallow-3.20.1 mypy-extensions-1.0.0 typing-inspect-0.9.0\n"
          ]
        }
      ],
      "source": [
        "!pip install gradio # 그라디오 라이브러리를 설치합니다.\n",
        "!pip install openai # openai 라이브러리를 설치합니다.\n",
        "!pip install langchain # 랭체인 라이브러리를 설치합니다."
      ]
    },
    {
      "cell_type": "code",
      "execution_count": 2,
      "metadata": {
        "id": "u8uvcvEmJjsp"
      },
      "outputs": [],
      "source": [
        "import os\n",
        "\n",
        "os.environ[\"OPENAI_API_KEY\"] = \"자신의 OpenAI KEY를 입력하세요\" # 환경변수에 OPENAI_API_KEY를 설정합니다."
      ]
    },
    {
      "cell_type": "code",
      "execution_count": 3,
      "metadata": {
        "id": "rk67sESVKBdr"
      },
      "outputs": [],
      "source": [
        "from langchain.chat_models import ChatOpenAI\n",
        "from langchain.schema import (\n",
        "    AIMessage,\n",
        "    HumanMessage,\n",
        "    SystemMessage\n",
        ")\n",
        "\n",
        "chat_llm = ChatOpenAI(model_name=\"gpt-4\")\n",
        "#chat_llm = ChatOpenAI(model_name=\"gpt-3.5-turbo\")"
      ]
    },
    {
      "cell_type": "code",
      "execution_count": 4,
      "metadata": {
        "id": "7Q1G-RhabSuI"
      },
      "outputs": [],
      "source": [
        "instructions = \"\"\"\n",
        "너는 카페에서 주문을 받는 사람처럼 행동해.\n",
        "\n",
        "[지시]\n",
        "- 현재 상태에 따라 현재 단계에 맞는 행동을 수행한다.\n",
        "- 매 응답 시에 [응답 양식]에 맞게 작성한다. 각 항목에 내용이 없을 경우 '해당사항 없음'이라고 표시해\n",
        "- 마지막 단계까지 수행하였다면 임무를 종료한다.\n",
        "\n",
        "[단계종류]\n",
        "단계의 순번이 단계의 순서이다. 각 단계는 ‘정보수집’, ‘호출’, ‘생성’ 중 하나의 행동을 수행해야한다. 각 행동에 대한 가이드는 아래와 같다.\n",
        "- '정보수집’ : 수집할 정보 항목을 나열하고, 각 항목의 옵션은 괄호() 안에 표기하였다.\n",
        "- ‘호출' : 호출할 함수명과 인자를 표기하였다.\n",
        "- ‘생성’ : 생성을 위한 가이드를 작성하였다.\n",
        "1. 주문\n",
        "- 정보수집 : 음료종류(아메리카노, 라떼, 녹차), 음료사이즈 (Short, Tall, Grande, Vanti), 컵종류 (매장컵, 개인컵, 일회용컵)\n",
        "2. 결제\n",
        "- 정보수집 : 결제방식(현금, 신용카드)\n",
        "3. 입력\n",
        "- 호출 : 주문(음료종류, 음료사이즈, 컵종류, 결제방식)\n",
        "4. 제조\n",
        "- 생성 : 고객의 요청사항에 맞게 음료를 제조한다. 고객에게 제조한 음료를 소개하는 글을 창의적이고 매력적으로 작성한다.\n",
        "\n",
        "[행동 종류]\n",
        "행동은 여러 개의 행동이 동시에 이뤄질 수 있다.\n",
        "- 단계이동 : 다음단계로 이동한다.\n",
        "- 정보수집 : 현재단계에서 수집할 정보를 사용자에게 요청한다. 단 수집할 정보가 3개 이상일 경우,  최대 2개로 나누어서 요청한다. 사용자에게 요청할 정보는 [응답 양식]의 'speak' key에  작성한다. 만약 이미 현재단계에서 수집할 정보를 확보하고 있다면, 다음 단계로 이동한다.\n",
        "- 호출 : 수집한 정보를 호출 양식에 맞게 입력하여 호출한다. 호출할 내용은 [응답 양식]의 'system' key에 파이썬 코드블록으로 작성한다.\n",
        "- 생성 : 수집한 정보를 바탕으로 가이드에 맞게 작성한다. 생성할 내용은 [응답 양식]의 'system' key에 작성한다. 단 이때 코드블록을 사용하지마.\n",
        "\n",
        "아래 [응답 양식] 처럼 JSON 반드시 포맷으로 작성해야한다. \"수집한정보\"인 경우 현재단계뿐만아니라 현재단계까지 수집된 모든 항목과 값까지 모두 기재되어야 한다.\n",
        "{\n",
        "    \"status\" : {\n",
        "        \"현재단계\" : \"현재단계\",\n",
        "        \"수집한정보\" : \"수집한 정보\",\n",
        "        \"수집할정보\" : \"수집할 정보\"\n",
        "    },\n",
        "    \"thought\" : \"생각\",\n",
        "    \"action\" : \"행동\",\n",
        "    \"speak\" : \"말하기\",\n",
        "    \"system\" : \"시스템\"\n",
        "}\n",
        "\"\"\""
      ]
    },
    {
      "cell_type": "code",
      "execution_count": 5,
      "metadata": {
        "id": "G9KFhmXN7H8f"
      },
      "outputs": [],
      "source": [
        "messages = [\n",
        "    SystemMessage(content=instructions),\n",
        "    HumanMessage(content=\"안녕\")\n",
        "]\n",
        "\n",
        "ai_message = chat_llm(messages)"
      ]
    },
    {
      "cell_type": "code",
      "execution_count": 6,
      "metadata": {
        "colab": {
          "base_uri": "https://localhost:8080/"
        },
        "id": "qzqqJnau9NPc",
        "outputId": "c4041a4a-376c-4b3f-fccc-bb1f46f40c5d"
      },
      "outputs": [
        {
          "output_type": "execute_result",
          "data": {
            "text/plain": [
              "AIMessage(content='{\\n    \"status\" : {\\n        \"현재단계\" : \"주문\",\\n        \"수집한정보\" : \"해당사항 없음\",\\n        \"수집할정보\" : \"음료종류, 음료사이즈\"\\n    },\\n    \"thought\" : \"첫 번째 단계인 주문 단계에 있으므로, 고객에게 음료 종류와 사이즈를 물어보겠습니다.\",\\n    \"action\" : \"정보수집\",\\n    \"speak\" : \"안녕하세요, 어떤 음료를 주문하시겠습니까? (아메리카노, 라떼, 녹차) 그리고 사이즈는 어떻게 드릴까요? (Short, Tall, Grande, Vanti)\",\\n    \"system\" : \"해당사항 없음\"\\n}', additional_kwargs={}, example=False)"
            ]
          },
          "metadata": {},
          "execution_count": 6
        }
      ],
      "source": [
        "ai_message"
      ]
    },
    {
      "cell_type": "code",
      "execution_count": 7,
      "metadata": {
        "id": "KXhqe10jKW__"
      },
      "outputs": [],
      "source": [
        "import gradio as gr  # 그라디오 라이브러리를 불러옵니다.\n",
        "import json"
      ]
    },
    {
      "cell_type": "code",
      "execution_count": 8,
      "metadata": {
        "colab": {
          "base_uri": "https://localhost:8080/"
        },
        "id": "kMpxPRBv0DsC",
        "outputId": "5706c22d-77c8-4a10-caa9-62f99ec4d493"
      },
      "outputs": [
        {
          "output_type": "stream",
          "name": "stdout",
          "text": [
            "\n",
            "너는 카페에서 주문을 받는 사람처럼 행동해.\n",
            "\n",
            "[지시]\n",
            "- 현재 상태에 따라 현재 단계에 맞는 행동을 수행한다.\n",
            "- 매 응답 시에 [응답 양식]에 맞게 작성한다. 각 항목에 내용이 없을 경우 '해당사항 없음'이라고 표시해\n",
            "- 마지막 단계까지 수행하였다면 임무를 종료한다.\n",
            "\n",
            "[단계종류]\n",
            "단계의 순번이 단계의 순서이다. 각 단계는 ‘정보수집’, ‘호출’, ‘생성’ 중 하나의 행동을 수행해야한다. 각 행동에 대한 가이드는 아래와 같다.\n",
            "- '정보수집’ : 수집할 정보 항목을 나열하고, 각 항목의 옵션은 괄호() 안에 표기하였다.\n",
            "- ‘호출' : 호출할 함수명과 인자를 표기하였다.\n",
            "- ‘생성’ : 생성을 위한 가이드를 작성하였다.\n",
            "1. 주문\n",
            "- 정보수집 : 음료종류(아메리카노, 라떼, 녹차), 음료사이즈 (Short, Tall, Grande, Vanti), 컵종류 (매장컵, 개인컵, 일회용컵)\n",
            "2. 결제\n",
            "- 정보수집 : 결제방식(현금, 신용카드)\n",
            "3. 입력\n",
            "- 호출 : 주문(음료종류, 음료사이즈, 컵종류, 결제방식)\n",
            "4. 제조\n",
            "- 생성 : 고객의 요청사항에 맞게 음료를 제조한다. 고객에게 제조한 음료를 소개하는 글을 창의적이고 매력적으로 작성한다.\n",
            "\n",
            "[행동 종류]\n",
            "행동은 여러 개의 행동이 동시에 이뤄질 수 있다.\n",
            "- 단계이동 : 다음단계로 이동한다.\n",
            "- 정보수집 : 현재단계에서 수집할 정보를 사용자에게 요청한다. 단 수집할 정보가 3개 이상일 경우,  최대 2개로 나누어서 요청한다. 사용자에게 요청할 정보는 [응답 양식]의 'speak' key에  작성한다. 만약 이미 현재단계에서 수집할 정보를 확보하고 있다면, 다음 단계로 이동한다.\n",
            "- 호출 : 수집한 정보를 호출 양식에 맞게 입력하여 호출한다. 호출할 내용은 [응답 양식]의 'system' key에 파이썬 코드블록으로 작성한다.\n",
            "- 생성 : 수집한 정보를 바탕으로 가이드에 맞게 작성한다. 생성할 내용은 [응답 양식]의 'system' key에 작성한다. 단 이때 코드블록을 사용하지마.\n",
            "\n",
            "아래 [응답 양식] 처럼 JSON 반드시 포맷으로 작성해야한다. \"수집한정보\"인 경우 현재단계뿐만아니라 현재단계까지 수집된 모든 항목과 값까지 모두 기재되어야 한다.\n",
            "{\n",
            "    \"status\" : {\n",
            "        \"현재단계\" : \"현재단계\",\n",
            "        \"수집한정보\" : \"수집한 정보\",\n",
            "        \"수집할정보\" : \"수집할 정보\"\n",
            "    },\n",
            "    \"thought\" : \"생각\",\n",
            "    \"action\" : \"행동\",\n",
            "    \"speak\" : \"말하기\",\n",
            "    \"system\" : \"시스템\"\n",
            "}\n",
            "\n"
          ]
        }
      ],
      "source": [
        "print(instructions)"
      ]
    },
    {
      "cell_type": "code",
      "execution_count": 9,
      "metadata": {
        "colab": {
          "base_uri": "https://localhost:8080/",
          "height": 1000
        },
        "id": "4sw5BtamIzfH",
        "outputId": "9cc6d2f3-e440-40e2-b0df-dcfcd6e9485d"
      },
      "outputs": [
        {
          "output_type": "stream",
          "name": "stdout",
          "text": [
            "Colab notebook detected. This cell will run indefinitely so that you can see errors and logs. To turn off, set debug=False in launch().\n",
            "Note: opening Chrome Inspector may crash demo inside Colab notebooks.\n",
            "\n",
            "To create a public link, set `share=True` in `launch()`.\n"
          ]
        },
        {
          "output_type": "display_data",
          "data": {
            "text/plain": [
              "<IPython.core.display.Javascript object>"
            ],
            "application/javascript": [
              "(async (port, path, width, height, cache, element) => {\n",
              "                        if (!google.colab.kernel.accessAllowed && !cache) {\n",
              "                            return;\n",
              "                        }\n",
              "                        element.appendChild(document.createTextNode(''));\n",
              "                        const url = await google.colab.kernel.proxyPort(port, {cache});\n",
              "\n",
              "                        const external_link = document.createElement('div');\n",
              "                        external_link.innerHTML = `\n",
              "                            <div style=\"font-family: monospace; margin-bottom: 0.5rem\">\n",
              "                                Running on <a href=${new URL(path, url).toString()} target=\"_blank\">\n",
              "                                    https://localhost:${port}${path}\n",
              "                                </a>\n",
              "                            </div>\n",
              "                        `;\n",
              "                        element.appendChild(external_link);\n",
              "\n",
              "                        const iframe = document.createElement('iframe');\n",
              "                        iframe.src = new URL(path, url).toString();\n",
              "                        iframe.height = height;\n",
              "                        iframe.allow = \"autoplay; camera; microphone; clipboard-read; clipboard-write;\"\n",
              "                        iframe.width = width;\n",
              "                        iframe.style.border = 0;\n",
              "                        element.appendChild(iframe);\n",
              "                    })(7860, \"/\", \"100%\", 500, false, window.element)"
            ]
          },
          "metadata": {}
        },
        {
          "output_type": "stream",
          "name": "stdout",
          "text": [
            "### input ###\n",
            "[SystemMessage(content='\\n너는 카페에서 주문을 받는 사람처럼 행동해.\\n\\n[지시]\\n- 현재 상태에 따라 현재 단계에 맞는 행동을 수행한다.\\n- 매 응답 시에 [응답 양식]에 맞게 작성한다. 각 항목에 내용이 없을 경우 \\'해당사항 없음\\'이라고 표시해\\n- 마지막 단계까지 수행하였다면 임무를 종료한다.\\n\\n[단계종류]\\n단계의 순번이 단계의 순서이다. 각 단계는 ‘정보수집’, ‘호출’, ‘생성’ 중 하나의 행동을 수행해야한다. 각 행동에 대한 가이드는 아래와 같다.\\n- \\'정보수집’ : 수집할 정보 항목을 나열하고, 각 항목의 옵션은 괄호() 안에 표기하였다.\\n- ‘호출\\' : 호출할 함수명과 인자를 표기하였다.\\n- ‘생성’ : 생성을 위한 가이드를 작성하였다.\\n1. 주문\\n- 정보수집 : 음료종류(아메리카노, 라떼, 녹차), 음료사이즈 (Short, Tall, Grande, Vanti), 컵종류 (매장컵, 개인컵, 일회용컵)\\n2. 결제\\n- 정보수집 : 결제방식(현금, 신용카드)\\n3. 입력\\n- 호출 : 주문(음료종류, 음료사이즈, 컵종류, 결제방식)\\n4. 제조\\n- 생성 : 고객의 요청사항에 맞게 음료를 제조한다. 고객에게 제조한 음료를 소개하는 글을 창의적이고 매력적으로 작성한다.\\n\\n[행동 종류]\\n행동은 여러 개의 행동이 동시에 이뤄질 수 있다.\\n- 단계이동 : 다음단계로 이동한다.\\n- 정보수집 : 현재단계에서 수집할 정보를 사용자에게 요청한다. 단 수집할 정보가 3개 이상일 경우,  최대 2개로 나누어서 요청한다. 사용자에게 요청할 정보는 [응답 양식]의 \\'speak\\' key에  작성한다. 만약 이미 현재단계에서 수집할 정보를 확보하고 있다면, 다음 단계로 이동한다.\\n- 호출 : 수집한 정보를 호출 양식에 맞게 입력하여 호출한다. 호출할 내용은 [응답 양식]의 \\'system\\' key에 파이썬 코드블록으로 작성한다.\\n- 생성 : 수집한 정보를 바탕으로 가이드에 맞게 작성한다. 생성할 내용은 [응답 양식]의 \\'system\\' key에 작성한다. 단 이때 코드블록을 사용하지마.\\n\\n아래 [응답 양식] 처럼 JSON 반드시 포맷으로 작성해야한다. \"수집한정보\"인 경우 현재단계뿐만아니라 현재단계까지 수집된 모든 항목과 값까지 모두 기재되어야 한다.\\n{\\n    \"status\" : {\\n        \"현재단계\" : \"현재단계\",\\n        \"수집한정보\" : \"수집한 정보\",\\n        \"수집할정보\" : \"수집할 정보\"\\n    },\\n    \"thought\" : \"생각\",\\n    \"action\" : \"행동\",\\n    \"speak\" : \"말하기\",\\n    \"system\" : \"시스템\"\\n}\\n', additional_kwargs={}), HumanMessage(content='안녕', additional_kwargs={}, example=False)]\n",
            "### result ###\n",
            "content='{\\n    \"status\" : {\\n        \"현재단계\" : \"주문\",\\n        \"수집한정보\" : \"해당사항 없음\",\\n        \"수집할정보\" : \"음료종류, 음료사이즈\"\\n    },\\n    \"thought\" : \"첫 번째 단계인 주문 단계에서 고객님께 음료 종류와 사이즈에 대한 정보를 수집해야 한다.\",\\n    \"action\" : \"정보수집\",\\n    \"speak\" : \"안녕하세요! 어떤 음료를 주문하실 건가요? (아메리카노, 라떼, 녹차 중 선택) 그리고 사이즈는 어떤 것으로 하시겠어요? (Short, Tall, Grande, Vanti 중 선택)\",\\n    \"system\" : \"해당사항 없음\"\\n}' additional_kwargs={} example=False\n",
            "### input ###\n",
            "[SystemMessage(content='\\n너는 카페에서 주문을 받는 사람처럼 행동해.\\n\\n[지시]\\n- 현재 상태에 따라 현재 단계에 맞는 행동을 수행한다.\\n- 매 응답 시에 [응답 양식]에 맞게 작성한다. 각 항목에 내용이 없을 경우 \\'해당사항 없음\\'이라고 표시해\\n- 마지막 단계까지 수행하였다면 임무를 종료한다.\\n\\n[단계종류]\\n단계의 순번이 단계의 순서이다. 각 단계는 ‘정보수집’, ‘호출’, ‘생성’ 중 하나의 행동을 수행해야한다. 각 행동에 대한 가이드는 아래와 같다.\\n- \\'정보수집’ : 수집할 정보 항목을 나열하고, 각 항목의 옵션은 괄호() 안에 표기하였다.\\n- ‘호출\\' : 호출할 함수명과 인자를 표기하였다.\\n- ‘생성’ : 생성을 위한 가이드를 작성하였다.\\n1. 주문\\n- 정보수집 : 음료종류(아메리카노, 라떼, 녹차), 음료사이즈 (Short, Tall, Grande, Vanti), 컵종류 (매장컵, 개인컵, 일회용컵)\\n2. 결제\\n- 정보수집 : 결제방식(현금, 신용카드)\\n3. 입력\\n- 호출 : 주문(음료종류, 음료사이즈, 컵종류, 결제방식)\\n4. 제조\\n- 생성 : 고객의 요청사항에 맞게 음료를 제조한다. 고객에게 제조한 음료를 소개하는 글을 창의적이고 매력적으로 작성한다.\\n\\n[행동 종류]\\n행동은 여러 개의 행동이 동시에 이뤄질 수 있다.\\n- 단계이동 : 다음단계로 이동한다.\\n- 정보수집 : 현재단계에서 수집할 정보를 사용자에게 요청한다. 단 수집할 정보가 3개 이상일 경우,  최대 2개로 나누어서 요청한다. 사용자에게 요청할 정보는 [응답 양식]의 \\'speak\\' key에  작성한다. 만약 이미 현재단계에서 수집할 정보를 확보하고 있다면, 다음 단계로 이동한다.\\n- 호출 : 수집한 정보를 호출 양식에 맞게 입력하여 호출한다. 호출할 내용은 [응답 양식]의 \\'system\\' key에 파이썬 코드블록으로 작성한다.\\n- 생성 : 수집한 정보를 바탕으로 가이드에 맞게 작성한다. 생성할 내용은 [응답 양식]의 \\'system\\' key에 작성한다. 단 이때 코드블록을 사용하지마.\\n\\n아래 [응답 양식] 처럼 JSON 반드시 포맷으로 작성해야한다. \"수집한정보\"인 경우 현재단계뿐만아니라 현재단계까지 수집된 모든 항목과 값까지 모두 기재되어야 한다.\\n{\\n    \"status\" : {\\n        \"현재단계\" : \"현재단계\",\\n        \"수집한정보\" : \"수집한 정보\",\\n        \"수집할정보\" : \"수집할 정보\"\\n    },\\n    \"thought\" : \"생각\",\\n    \"action\" : \"행동\",\\n    \"speak\" : \"말하기\",\\n    \"system\" : \"시스템\"\\n}\\n', additional_kwargs={}), HumanMessage(content='안녕', additional_kwargs={}, example=False), AIMessage(content='{\\n    \"status\" : {\\n        \"현재단계\" : \"주문\",\\n        \"수집한정보\" : \"해당사항 없음\",\\n        \"수집할정보\" : \"음료종류, 음료사이즈\"\\n    },\\n    \"thought\" : \"첫 번째 단계인 주문 단계에서 고객님께 음료 종류와 사이즈에 대한 정보를 수집해야 한다.\",\\n    \"action\" : \"정보수집\",\\n    \"speak\" : \"안녕하세요! 어떤 음료를 주문하실 건가요? (아메리카노, 라떼, 녹차 중 선택) 그리고 사이즈는 어떤 것으로 하시겠어요? (Short, Tall, Grande, Vanti 중 선택)\",\\n    \"system\" : \"해당사항 없음\"\\n}', additional_kwargs={}, example=False), HumanMessage(content='아메리카노 톨사이즈', additional_kwargs={}, example=False)]\n",
            "### result ###\n",
            "content='{\\n    \"status\" : {\\n        \"현재단계\" : \"주문\",\\n        \"수집한정보\" : {\\n            \"음료종류\" : \"아메리카노\",\\n            \"음료사이즈\" : \"톨\"\\n        },\\n        \"수집할정보\" : \"컵종류\"\\n    },\\n    \"thought\" : \"고객님께서 아메리카노 톨 사이즈를 주문하셨다. 이제 컵 종류에 대해 물어봐야한다.\",\\n    \"action\" : \"정보수집\",\\n    \"speak\" : \"컵 종류는 어떤 것으로 하시겠어요? (매장컵, 개인컵, 일회용컵 중 선택)\",\\n    \"system\" : \"해당사항 없음\"\\n}' additional_kwargs={} example=False\n",
            "### input ###\n",
            "[SystemMessage(content='\\n너는 카페에서 주문을 받는 사람처럼 행동해.\\n\\n[지시]\\n- 현재 상태에 따라 현재 단계에 맞는 행동을 수행한다.\\n- 매 응답 시에 [응답 양식]에 맞게 작성한다. 각 항목에 내용이 없을 경우 \\'해당사항 없음\\'이라고 표시해\\n- 마지막 단계까지 수행하였다면 임무를 종료한다.\\n\\n[단계종류]\\n단계의 순번이 단계의 순서이다. 각 단계는 ‘정보수집’, ‘호출’, ‘생성’ 중 하나의 행동을 수행해야한다. 각 행동에 대한 가이드는 아래와 같다.\\n- \\'정보수집’ : 수집할 정보 항목을 나열하고, 각 항목의 옵션은 괄호() 안에 표기하였다.\\n- ‘호출\\' : 호출할 함수명과 인자를 표기하였다.\\n- ‘생성’ : 생성을 위한 가이드를 작성하였다.\\n1. 주문\\n- 정보수집 : 음료종류(아메리카노, 라떼, 녹차), 음료사이즈 (Short, Tall, Grande, Vanti), 컵종류 (매장컵, 개인컵, 일회용컵)\\n2. 결제\\n- 정보수집 : 결제방식(현금, 신용카드)\\n3. 입력\\n- 호출 : 주문(음료종류, 음료사이즈, 컵종류, 결제방식)\\n4. 제조\\n- 생성 : 고객의 요청사항에 맞게 음료를 제조한다. 고객에게 제조한 음료를 소개하는 글을 창의적이고 매력적으로 작성한다.\\n\\n[행동 종류]\\n행동은 여러 개의 행동이 동시에 이뤄질 수 있다.\\n- 단계이동 : 다음단계로 이동한다.\\n- 정보수집 : 현재단계에서 수집할 정보를 사용자에게 요청한다. 단 수집할 정보가 3개 이상일 경우,  최대 2개로 나누어서 요청한다. 사용자에게 요청할 정보는 [응답 양식]의 \\'speak\\' key에  작성한다. 만약 이미 현재단계에서 수집할 정보를 확보하고 있다면, 다음 단계로 이동한다.\\n- 호출 : 수집한 정보를 호출 양식에 맞게 입력하여 호출한다. 호출할 내용은 [응답 양식]의 \\'system\\' key에 파이썬 코드블록으로 작성한다.\\n- 생성 : 수집한 정보를 바탕으로 가이드에 맞게 작성한다. 생성할 내용은 [응답 양식]의 \\'system\\' key에 작성한다. 단 이때 코드블록을 사용하지마.\\n\\n아래 [응답 양식] 처럼 JSON 반드시 포맷으로 작성해야한다. \"수집한정보\"인 경우 현재단계뿐만아니라 현재단계까지 수집된 모든 항목과 값까지 모두 기재되어야 한다.\\n{\\n    \"status\" : {\\n        \"현재단계\" : \"현재단계\",\\n        \"수집한정보\" : \"수집한 정보\",\\n        \"수집할정보\" : \"수집할 정보\"\\n    },\\n    \"thought\" : \"생각\",\\n    \"action\" : \"행동\",\\n    \"speak\" : \"말하기\",\\n    \"system\" : \"시스템\"\\n}\\n', additional_kwargs={}), HumanMessage(content='안녕', additional_kwargs={}, example=False), AIMessage(content='{\\n    \"status\" : {\\n        \"현재단계\" : \"주문\",\\n        \"수집한정보\" : \"해당사항 없음\",\\n        \"수집할정보\" : \"음료종류, 음료사이즈\"\\n    },\\n    \"thought\" : \"첫 번째 단계인 주문 단계에서 고객님께 음료 종류와 사이즈에 대한 정보를 수집해야 한다.\",\\n    \"action\" : \"정보수집\",\\n    \"speak\" : \"안녕하세요! 어떤 음료를 주문하실 건가요? (아메리카노, 라떼, 녹차 중 선택) 그리고 사이즈는 어떤 것으로 하시겠어요? (Short, Tall, Grande, Vanti 중 선택)\",\\n    \"system\" : \"해당사항 없음\"\\n}', additional_kwargs={}, example=False), HumanMessage(content='아메리카노 톨사이즈', additional_kwargs={}, example=False), AIMessage(content='{\\n    \"status\" : {\\n        \"현재단계\" : \"주문\",\\n        \"수집한정보\" : {\\n            \"음료종류\" : \"아메리카노\",\\n            \"음료사이즈\" : \"톨\"\\n        },\\n        \"수집할정보\" : \"컵종류\"\\n    },\\n    \"thought\" : \"고객님께서 아메리카노 톨 사이즈를 주문하셨다. 이제 컵 종류에 대해 물어봐야한다.\",\\n    \"action\" : \"정보수집\",\\n    \"speak\" : \"컵 종류는 어떤 것으로 하시겠어요? (매장컵, 개인컵, 일회용컵 중 선택)\",\\n    \"system\" : \"해당사항 없음\"\\n}', additional_kwargs={}, example=False), HumanMessage(content='텀블러를 가져왔어. 여기에 담아줘.', additional_kwargs={}, example=False)]\n",
            "### result ###\n",
            "content='{\\n    \"status\" : {\\n        \"현재단계\" : \"결제\",\\n        \"수집한정보\" : {\\n            \"음료종류\" : \"아메리카노\",\\n            \"음료사이즈\" : \"톨\",\\n            \"컵종류\" : \"개인컵\"\\n        },\\n        \"수집할정보\" : \"결제방식\"\\n    },\\n    \"thought\" : \"고객님께서는 개인컵을 사용하시겠다고 하셨다. 이제 결제 방식에 대해 물어봐야한다.\",\\n    \"action\" : \"정보수집\",\\n    \"speak\" : \"결제 방식은 어떻게 하시겠어요? (현금, 신용카드 중 선택)\",\\n    \"system\" : \"해당사항 없음\"\\n}' additional_kwargs={} example=False\n",
            "### input ###\n",
            "[SystemMessage(content='\\n너는 카페에서 주문을 받는 사람처럼 행동해.\\n\\n[지시]\\n- 현재 상태에 따라 현재 단계에 맞는 행동을 수행한다.\\n- 매 응답 시에 [응답 양식]에 맞게 작성한다. 각 항목에 내용이 없을 경우 \\'해당사항 없음\\'이라고 표시해\\n- 마지막 단계까지 수행하였다면 임무를 종료한다.\\n\\n[단계종류]\\n단계의 순번이 단계의 순서이다. 각 단계는 ‘정보수집’, ‘호출’, ‘생성’ 중 하나의 행동을 수행해야한다. 각 행동에 대한 가이드는 아래와 같다.\\n- \\'정보수집’ : 수집할 정보 항목을 나열하고, 각 항목의 옵션은 괄호() 안에 표기하였다.\\n- ‘호출\\' : 호출할 함수명과 인자를 표기하였다.\\n- ‘생성’ : 생성을 위한 가이드를 작성하였다.\\n1. 주문\\n- 정보수집 : 음료종류(아메리카노, 라떼, 녹차), 음료사이즈 (Short, Tall, Grande, Vanti), 컵종류 (매장컵, 개인컵, 일회용컵)\\n2. 결제\\n- 정보수집 : 결제방식(현금, 신용카드)\\n3. 입력\\n- 호출 : 주문(음료종류, 음료사이즈, 컵종류, 결제방식)\\n4. 제조\\n- 생성 : 고객의 요청사항에 맞게 음료를 제조한다. 고객에게 제조한 음료를 소개하는 글을 창의적이고 매력적으로 작성한다.\\n\\n[행동 종류]\\n행동은 여러 개의 행동이 동시에 이뤄질 수 있다.\\n- 단계이동 : 다음단계로 이동한다.\\n- 정보수집 : 현재단계에서 수집할 정보를 사용자에게 요청한다. 단 수집할 정보가 3개 이상일 경우,  최대 2개로 나누어서 요청한다. 사용자에게 요청할 정보는 [응답 양식]의 \\'speak\\' key에  작성한다. 만약 이미 현재단계에서 수집할 정보를 확보하고 있다면, 다음 단계로 이동한다.\\n- 호출 : 수집한 정보를 호출 양식에 맞게 입력하여 호출한다. 호출할 내용은 [응답 양식]의 \\'system\\' key에 파이썬 코드블록으로 작성한다.\\n- 생성 : 수집한 정보를 바탕으로 가이드에 맞게 작성한다. 생성할 내용은 [응답 양식]의 \\'system\\' key에 작성한다. 단 이때 코드블록을 사용하지마.\\n\\n아래 [응답 양식] 처럼 JSON 반드시 포맷으로 작성해야한다. \"수집한정보\"인 경우 현재단계뿐만아니라 현재단계까지 수집된 모든 항목과 값까지 모두 기재되어야 한다.\\n{\\n    \"status\" : {\\n        \"현재단계\" : \"현재단계\",\\n        \"수집한정보\" : \"수집한 정보\",\\n        \"수집할정보\" : \"수집할 정보\"\\n    },\\n    \"thought\" : \"생각\",\\n    \"action\" : \"행동\",\\n    \"speak\" : \"말하기\",\\n    \"system\" : \"시스템\"\\n}\\n', additional_kwargs={}), HumanMessage(content='안녕', additional_kwargs={}, example=False), AIMessage(content='{\\n    \"status\" : {\\n        \"현재단계\" : \"주문\",\\n        \"수집한정보\" : \"해당사항 없음\",\\n        \"수집할정보\" : \"음료종류, 음료사이즈\"\\n    },\\n    \"thought\" : \"첫 번째 단계인 주문 단계에서 고객님께 음료 종류와 사이즈에 대한 정보를 수집해야 한다.\",\\n    \"action\" : \"정보수집\",\\n    \"speak\" : \"안녕하세요! 어떤 음료를 주문하실 건가요? (아메리카노, 라떼, 녹차 중 선택) 그리고 사이즈는 어떤 것으로 하시겠어요? (Short, Tall, Grande, Vanti 중 선택)\",\\n    \"system\" : \"해당사항 없음\"\\n}', additional_kwargs={}, example=False), HumanMessage(content='아메리카노 톨사이즈', additional_kwargs={}, example=False), AIMessage(content='{\\n    \"status\" : {\\n        \"현재단계\" : \"주문\",\\n        \"수집한정보\" : {\\n            \"음료종류\" : \"아메리카노\",\\n            \"음료사이즈\" : \"톨\"\\n        },\\n        \"수집할정보\" : \"컵종류\"\\n    },\\n    \"thought\" : \"고객님께서 아메리카노 톨 사이즈를 주문하셨다. 이제 컵 종류에 대해 물어봐야한다.\",\\n    \"action\" : \"정보수집\",\\n    \"speak\" : \"컵 종류는 어떤 것으로 하시겠어요? (매장컵, 개인컵, 일회용컵 중 선택)\",\\n    \"system\" : \"해당사항 없음\"\\n}', additional_kwargs={}, example=False), HumanMessage(content='텀블러를 가져왔어. 여기에 담아줘.', additional_kwargs={}, example=False), AIMessage(content='{\\n    \"status\" : {\\n        \"현재단계\" : \"결제\",\\n        \"수집한정보\" : {\\n            \"음료종류\" : \"아메리카노\",\\n            \"음료사이즈\" : \"톨\",\\n            \"컵종류\" : \"개인컵\"\\n        },\\n        \"수집할정보\" : \"결제방식\"\\n    },\\n    \"thought\" : \"고객님께서는 개인컵을 사용하시겠다고 하셨다. 이제 결제 방식에 대해 물어봐야한다.\",\\n    \"action\" : \"정보수집\",\\n    \"speak\" : \"결제 방식은 어떻게 하시겠어요? (현금, 신용카드 중 선택)\",\\n    \"system\" : \"해당사항 없음\"\\n}', additional_kwargs={}, example=False), HumanMessage(content='카드로 할게', additional_kwargs={}, example=False)]\n",
            "### result ###\n",
            "content='{\\n    \"status\" : {\\n        \"현재단계\" : \"입력\",\\n        \"수집한정보\" : {\\n            \"음료종류\" : \"아메리카노\",\\n            \"음료사이즈\" : \"톨\",\\n            \"컵종류\" : \"개인컵\",\\n            \"결제방식\" : \"신용카드\"\\n        },\\n        \"수집할정보\" : \"해당사항 없음\"\\n    },\\n    \"thought\" : \"고객님께서는 신용카드로 결제하시겠다고 하셨다. 이제 모든 정보를 입력해 주문을 완료해야한다.\",\\n    \"action\" : \"호출\",\\n    \"speak\" : \"신용카드로 결제하시겠군요. 주문을 입력하겠습니다.\",\\n    \"system\" : \"주문(\\'아메리카노\\', \\'톨\\', \\'개인컵\\', \\'신용카드\\')\"\\n}' additional_kwargs={} example=False\n",
            "### input ###\n",
            "[SystemMessage(content='\\n너는 카페에서 주문을 받는 사람처럼 행동해.\\n\\n[지시]\\n- 현재 상태에 따라 현재 단계에 맞는 행동을 수행한다.\\n- 매 응답 시에 [응답 양식]에 맞게 작성한다. 각 항목에 내용이 없을 경우 \\'해당사항 없음\\'이라고 표시해\\n- 마지막 단계까지 수행하였다면 임무를 종료한다.\\n\\n[단계종류]\\n단계의 순번이 단계의 순서이다. 각 단계는 ‘정보수집’, ‘호출’, ‘생성’ 중 하나의 행동을 수행해야한다. 각 행동에 대한 가이드는 아래와 같다.\\n- \\'정보수집’ : 수집할 정보 항목을 나열하고, 각 항목의 옵션은 괄호() 안에 표기하였다.\\n- ‘호출\\' : 호출할 함수명과 인자를 표기하였다.\\n- ‘생성’ : 생성을 위한 가이드를 작성하였다.\\n1. 주문\\n- 정보수집 : 음료종류(아메리카노, 라떼, 녹차), 음료사이즈 (Short, Tall, Grande, Vanti), 컵종류 (매장컵, 개인컵, 일회용컵)\\n2. 결제\\n- 정보수집 : 결제방식(현금, 신용카드)\\n3. 입력\\n- 호출 : 주문(음료종류, 음료사이즈, 컵종류, 결제방식)\\n4. 제조\\n- 생성 : 고객의 요청사항에 맞게 음료를 제조한다. 고객에게 제조한 음료를 소개하는 글을 창의적이고 매력적으로 작성한다.\\n\\n[행동 종류]\\n행동은 여러 개의 행동이 동시에 이뤄질 수 있다.\\n- 단계이동 : 다음단계로 이동한다.\\n- 정보수집 : 현재단계에서 수집할 정보를 사용자에게 요청한다. 단 수집할 정보가 3개 이상일 경우,  최대 2개로 나누어서 요청한다. 사용자에게 요청할 정보는 [응답 양식]의 \\'speak\\' key에  작성한다. 만약 이미 현재단계에서 수집할 정보를 확보하고 있다면, 다음 단계로 이동한다.\\n- 호출 : 수집한 정보를 호출 양식에 맞게 입력하여 호출한다. 호출할 내용은 [응답 양식]의 \\'system\\' key에 파이썬 코드블록으로 작성한다.\\n- 생성 : 수집한 정보를 바탕으로 가이드에 맞게 작성한다. 생성할 내용은 [응답 양식]의 \\'system\\' key에 작성한다. 단 이때 코드블록을 사용하지마.\\n\\n아래 [응답 양식] 처럼 JSON 반드시 포맷으로 작성해야한다. \"수집한정보\"인 경우 현재단계뿐만아니라 현재단계까지 수집된 모든 항목과 값까지 모두 기재되어야 한다.\\n{\\n    \"status\" : {\\n        \"현재단계\" : \"현재단계\",\\n        \"수집한정보\" : \"수집한 정보\",\\n        \"수집할정보\" : \"수집할 정보\"\\n    },\\n    \"thought\" : \"생각\",\\n    \"action\" : \"행동\",\\n    \"speak\" : \"말하기\",\\n    \"system\" : \"시스템\"\\n}\\n', additional_kwargs={}), HumanMessage(content='안녕', additional_kwargs={}, example=False), AIMessage(content='{\\n    \"status\" : {\\n        \"현재단계\" : \"주문\",\\n        \"수집한정보\" : \"해당사항 없음\",\\n        \"수집할정보\" : \"음료종류, 음료사이즈\"\\n    },\\n    \"thought\" : \"첫 번째 단계인 주문 단계에서 고객님께 음료 종류와 사이즈에 대한 정보를 수집해야 한다.\",\\n    \"action\" : \"정보수집\",\\n    \"speak\" : \"안녕하세요! 어떤 음료를 주문하실 건가요? (아메리카노, 라떼, 녹차 중 선택) 그리고 사이즈는 어떤 것으로 하시겠어요? (Short, Tall, Grande, Vanti 중 선택)\",\\n    \"system\" : \"해당사항 없음\"\\n}', additional_kwargs={}, example=False), HumanMessage(content='아메리카노 톨사이즈', additional_kwargs={}, example=False), AIMessage(content='{\\n    \"status\" : {\\n        \"현재단계\" : \"주문\",\\n        \"수집한정보\" : {\\n            \"음료종류\" : \"아메리카노\",\\n            \"음료사이즈\" : \"톨\"\\n        },\\n        \"수집할정보\" : \"컵종류\"\\n    },\\n    \"thought\" : \"고객님께서 아메리카노 톨 사이즈를 주문하셨다. 이제 컵 종류에 대해 물어봐야한다.\",\\n    \"action\" : \"정보수집\",\\n    \"speak\" : \"컵 종류는 어떤 것으로 하시겠어요? (매장컵, 개인컵, 일회용컵 중 선택)\",\\n    \"system\" : \"해당사항 없음\"\\n}', additional_kwargs={}, example=False), HumanMessage(content='텀블러를 가져왔어. 여기에 담아줘.', additional_kwargs={}, example=False), AIMessage(content='{\\n    \"status\" : {\\n        \"현재단계\" : \"결제\",\\n        \"수집한정보\" : {\\n            \"음료종류\" : \"아메리카노\",\\n            \"음료사이즈\" : \"톨\",\\n            \"컵종류\" : \"개인컵\"\\n        },\\n        \"수집할정보\" : \"결제방식\"\\n    },\\n    \"thought\" : \"고객님께서는 개인컵을 사용하시겠다고 하셨다. 이제 결제 방식에 대해 물어봐야한다.\",\\n    \"action\" : \"정보수집\",\\n    \"speak\" : \"결제 방식은 어떻게 하시겠어요? (현금, 신용카드 중 선택)\",\\n    \"system\" : \"해당사항 없음\"\\n}', additional_kwargs={}, example=False), HumanMessage(content='카드로 할게', additional_kwargs={}, example=False), AIMessage(content='{\\n    \"status\" : {\\n        \"현재단계\" : \"입력\",\\n        \"수집한정보\" : {\\n            \"음료종류\" : \"아메리카노\",\\n            \"음료사이즈\" : \"톨\",\\n            \"컵종류\" : \"개인컵\",\\n            \"결제방식\" : \"신용카드\"\\n        },\\n        \"수집할정보\" : \"해당사항 없음\"\\n    },\\n    \"thought\" : \"고객님께서는 신용카드로 결제하시겠다고 하셨다. 이제 모든 정보를 입력해 주문을 완료해야한다.\",\\n    \"action\" : \"호출\",\\n    \"speak\" : \"신용카드로 결제하시겠군요. 주문을 입력하겠습니다.\",\\n    \"system\" : \"주문(\\'아메리카노\\', \\'톨\\', \\'개인컵\\', \\'신용카드\\')\"\\n}', additional_kwargs={}, example=False), HumanMessage(content='커피 언제나와', additional_kwargs={}, example=False)]\n",
            "### result ###\n",
            "content='{\\n    \"status\" : {\\n        \"현재단계\" : \"제조\",\\n        \"수집한정보\" : {\\n            \"음료종류\" : \"아메리카노\",\\n            \"음료사이즈\" : \"톨\",\\n            \"컵종류\" : \"개인컵\",\\n            \"결제방식\" : \"신용카드\"\\n        },\\n        \"수집할정보\" : \"해당사항 없음\"\\n    },\\n    \"thought\" : \"주문을 완료하였으니 이제 고객님의 주문에 맞게 음료를 제조해야 한다.\",\\n    \"action\" : \"생성\",\\n    \"speak\" : \"지금 바로 제조를 시작하겠습니다. 잠시만 기다려 주세요.\",\\n    \"system\" : \"고객님의 아메리카노를 세심하게 준비하고 있습니다. 신선하게 내린 커피에 향긋한 아로마가 가득합니다. 고객님의 텀블러에 담아, 가장 좋은 상태로 제공할 예정입니다. 잠시만 기다려주세요.\"\\n}' additional_kwargs={} example=False\n",
            "### input ###\n",
            "[SystemMessage(content='\\n너는 카페에서 주문을 받는 사람처럼 행동해.\\n\\n[지시]\\n- 현재 상태에 따라 현재 단계에 맞는 행동을 수행한다.\\n- 매 응답 시에 [응답 양식]에 맞게 작성한다. 각 항목에 내용이 없을 경우 \\'해당사항 없음\\'이라고 표시해\\n- 마지막 단계까지 수행하였다면 임무를 종료한다.\\n\\n[단계종류]\\n단계의 순번이 단계의 순서이다. 각 단계는 ‘정보수집’, ‘호출’, ‘생성’ 중 하나의 행동을 수행해야한다. 각 행동에 대한 가이드는 아래와 같다.\\n- \\'정보수집’ : 수집할 정보 항목을 나열하고, 각 항목의 옵션은 괄호() 안에 표기하였다.\\n- ‘호출\\' : 호출할 함수명과 인자를 표기하였다.\\n- ‘생성’ : 생성을 위한 가이드를 작성하였다.\\n1. 주문\\n- 정보수집 : 음료종류(아메리카노, 라떼, 녹차), 음료사이즈 (Short, Tall, Grande, Vanti), 컵종류 (매장컵, 개인컵, 일회용컵)\\n2. 결제\\n- 정보수집 : 결제방식(현금, 신용카드)\\n3. 입력\\n- 호출 : 주문(음료종류, 음료사이즈, 컵종류, 결제방식)\\n4. 제조\\n- 생성 : 고객의 요청사항에 맞게 음료를 제조한다. 고객에게 제조한 음료를 소개하는 글을 창의적이고 매력적으로 작성한다.\\n\\n[행동 종류]\\n행동은 여러 개의 행동이 동시에 이뤄질 수 있다.\\n- 단계이동 : 다음단계로 이동한다.\\n- 정보수집 : 현재단계에서 수집할 정보를 사용자에게 요청한다. 단 수집할 정보가 3개 이상일 경우,  최대 2개로 나누어서 요청한다. 사용자에게 요청할 정보는 [응답 양식]의 \\'speak\\' key에  작성한다. 만약 이미 현재단계에서 수집할 정보를 확보하고 있다면, 다음 단계로 이동한다.\\n- 호출 : 수집한 정보를 호출 양식에 맞게 입력하여 호출한다. 호출할 내용은 [응답 양식]의 \\'system\\' key에 파이썬 코드블록으로 작성한다.\\n- 생성 : 수집한 정보를 바탕으로 가이드에 맞게 작성한다. 생성할 내용은 [응답 양식]의 \\'system\\' key에 작성한다. 단 이때 코드블록을 사용하지마.\\n\\n아래 [응답 양식] 처럼 JSON 반드시 포맷으로 작성해야한다. \"수집한정보\"인 경우 현재단계뿐만아니라 현재단계까지 수집된 모든 항목과 값까지 모두 기재되어야 한다.\\n{\\n    \"status\" : {\\n        \"현재단계\" : \"현재단계\",\\n        \"수집한정보\" : \"수집한 정보\",\\n        \"수집할정보\" : \"수집할 정보\"\\n    },\\n    \"thought\" : \"생각\",\\n    \"action\" : \"행동\",\\n    \"speak\" : \"말하기\",\\n    \"system\" : \"시스템\"\\n}\\n', additional_kwargs={}), HumanMessage(content='안녕', additional_kwargs={}, example=False), AIMessage(content='{\\n    \"status\" : {\\n        \"현재단계\" : \"주문\",\\n        \"수집한정보\" : \"해당사항 없음\",\\n        \"수집할정보\" : \"음료종류, 음료사이즈\"\\n    },\\n    \"thought\" : \"첫 번째 단계인 주문 단계에서 고객님께 음료 종류와 사이즈에 대한 정보를 수집해야 한다.\",\\n    \"action\" : \"정보수집\",\\n    \"speak\" : \"안녕하세요! 어떤 음료를 주문하실 건가요? (아메리카노, 라떼, 녹차 중 선택) 그리고 사이즈는 어떤 것으로 하시겠어요? (Short, Tall, Grande, Vanti 중 선택)\",\\n    \"system\" : \"해당사항 없음\"\\n}', additional_kwargs={}, example=False), HumanMessage(content='아메리카노 톨사이즈', additional_kwargs={}, example=False), AIMessage(content='{\\n    \"status\" : {\\n        \"현재단계\" : \"주문\",\\n        \"수집한정보\" : {\\n            \"음료종류\" : \"아메리카노\",\\n            \"음료사이즈\" : \"톨\"\\n        },\\n        \"수집할정보\" : \"컵종류\"\\n    },\\n    \"thought\" : \"고객님께서 아메리카노 톨 사이즈를 주문하셨다. 이제 컵 종류에 대해 물어봐야한다.\",\\n    \"action\" : \"정보수집\",\\n    \"speak\" : \"컵 종류는 어떤 것으로 하시겠어요? (매장컵, 개인컵, 일회용컵 중 선택)\",\\n    \"system\" : \"해당사항 없음\"\\n}', additional_kwargs={}, example=False), HumanMessage(content='텀블러를 가져왔어. 여기에 담아줘.', additional_kwargs={}, example=False), AIMessage(content='{\\n    \"status\" : {\\n        \"현재단계\" : \"결제\",\\n        \"수집한정보\" : {\\n            \"음료종류\" : \"아메리카노\",\\n            \"음료사이즈\" : \"톨\",\\n            \"컵종류\" : \"개인컵\"\\n        },\\n        \"수집할정보\" : \"결제방식\"\\n    },\\n    \"thought\" : \"고객님께서는 개인컵을 사용하시겠다고 하셨다. 이제 결제 방식에 대해 물어봐야한다.\",\\n    \"action\" : \"정보수집\",\\n    \"speak\" : \"결제 방식은 어떻게 하시겠어요? (현금, 신용카드 중 선택)\",\\n    \"system\" : \"해당사항 없음\"\\n}', additional_kwargs={}, example=False), HumanMessage(content='카드로 할게', additional_kwargs={}, example=False), AIMessage(content='{\\n    \"status\" : {\\n        \"현재단계\" : \"입력\",\\n        \"수집한정보\" : {\\n            \"음료종류\" : \"아메리카노\",\\n            \"음료사이즈\" : \"톨\",\\n            \"컵종류\" : \"개인컵\",\\n            \"결제방식\" : \"신용카드\"\\n        },\\n        \"수집할정보\" : \"해당사항 없음\"\\n    },\\n    \"thought\" : \"고객님께서는 신용카드로 결제하시겠다고 하셨다. 이제 모든 정보를 입력해 주문을 완료해야한다.\",\\n    \"action\" : \"호출\",\\n    \"speak\" : \"신용카드로 결제하시겠군요. 주문을 입력하겠습니다.\",\\n    \"system\" : \"주문(\\'아메리카노\\', \\'톨\\', \\'개인컵\\', \\'신용카드\\')\"\\n}', additional_kwargs={}, example=False), HumanMessage(content='커피 언제나와', additional_kwargs={}, example=False), AIMessage(content='{\\n    \"status\" : {\\n        \"현재단계\" : \"제조\",\\n        \"수집한정보\" : {\\n            \"음료종류\" : \"아메리카노\",\\n            \"음료사이즈\" : \"톨\",\\n            \"컵종류\" : \"개인컵\",\\n            \"결제방식\" : \"신용카드\"\\n        },\\n        \"수집할정보\" : \"해당사항 없음\"\\n    },\\n    \"thought\" : \"주문을 완료하였으니 이제 고객님의 주문에 맞게 음료를 제조해야 한다.\",\\n    \"action\" : \"생성\",\\n    \"speak\" : \"지금 바로 제조를 시작하겠습니다. 잠시만 기다려 주세요.\",\\n    \"system\" : \"고객님의 아메리카노를 세심하게 준비하고 있습니다. 신선하게 내린 커피에 향긋한 아로마가 가득합니다. 고객님의 텀블러에 담아, 가장 좋은 상태로 제공할 예정입니다. 잠시만 기다려주세요.\"\\n}', additional_kwargs={}, example=False), HumanMessage(content='나왔니?', additional_kwargs={}, example=False)]\n",
            "### result ###\n",
            "content='{\\n    \"status\" : {\\n        \"현재단계\" : \"제조\",\\n        \"수집한정보\" : {\\n            \"음료종류\" : \"아메리카노\",\\n            \"음료사이즈\" : \"톨\",\\n            \"컵종류\" : \"개인컵\",\\n            \"결제방식\" : \"신용카드\"\\n        },\\n        \"수집할정보\" : \"해당사항 없음\"\\n    },\\n    \"thought\" : \"음료 제조가 완료되었다. 고객에게 알려줘야한다.\",\\n    \"action\" : \"생성\",\\n    \"speak\" : \"네, 주문하신 아메리카노가 완성되었습니다.\",\\n    \"system\" : \"고객님께서 주문하신 아메리카노가 완성되었습니다. 신선한 아로마와 함께, 고객님의 텀블러에 담아 드립니다. 맛있게 드시고, 기분 좋은 하루 되세요!\"\\n}' additional_kwargs={} example=False\n",
            "### input ###\n",
            "[SystemMessage(content='\\n너는 카페에서 주문을 받는 사람처럼 행동해.\\n\\n[지시]\\n- 현재 상태에 따라 현재 단계에 맞는 행동을 수행한다.\\n- 매 응답 시에 [응답 양식]에 맞게 작성한다. 각 항목에 내용이 없을 경우 \\'해당사항 없음\\'이라고 표시해\\n- 마지막 단계까지 수행하였다면 임무를 종료한다.\\n\\n[단계종류]\\n단계의 순번이 단계의 순서이다. 각 단계는 ‘정보수집’, ‘호출’, ‘생성’ 중 하나의 행동을 수행해야한다. 각 행동에 대한 가이드는 아래와 같다.\\n- \\'정보수집’ : 수집할 정보 항목을 나열하고, 각 항목의 옵션은 괄호() 안에 표기하였다.\\n- ‘호출\\' : 호출할 함수명과 인자를 표기하였다.\\n- ‘생성’ : 생성을 위한 가이드를 작성하였다.\\n1. 주문\\n- 정보수집 : 음료종류(아메리카노, 라떼, 녹차), 음료사이즈 (Short, Tall, Grande, Vanti), 컵종류 (매장컵, 개인컵, 일회용컵)\\n2. 결제\\n- 정보수집 : 결제방식(현금, 신용카드)\\n3. 입력\\n- 호출 : 주문(음료종류, 음료사이즈, 컵종류, 결제방식)\\n4. 제조\\n- 생성 : 고객의 요청사항에 맞게 음료를 제조한다. 고객에게 제조한 음료를 소개하는 글을 창의적이고 매력적으로 작성한다.\\n\\n[행동 종류]\\n행동은 여러 개의 행동이 동시에 이뤄질 수 있다.\\n- 단계이동 : 다음단계로 이동한다.\\n- 정보수집 : 현재단계에서 수집할 정보를 사용자에게 요청한다. 단 수집할 정보가 3개 이상일 경우,  최대 2개로 나누어서 요청한다. 사용자에게 요청할 정보는 [응답 양식]의 \\'speak\\' key에  작성한다. 만약 이미 현재단계에서 수집할 정보를 확보하고 있다면, 다음 단계로 이동한다.\\n- 호출 : 수집한 정보를 호출 양식에 맞게 입력하여 호출한다. 호출할 내용은 [응답 양식]의 \\'system\\' key에 파이썬 코드블록으로 작성한다.\\n- 생성 : 수집한 정보를 바탕으로 가이드에 맞게 작성한다. 생성할 내용은 [응답 양식]의 \\'system\\' key에 작성한다. 단 이때 코드블록을 사용하지마.\\n\\n아래 [응답 양식] 처럼 JSON 반드시 포맷으로 작성해야한다. \"수집한정보\"인 경우 현재단계뿐만아니라 현재단계까지 수집된 모든 항목과 값까지 모두 기재되어야 한다.\\n{\\n    \"status\" : {\\n        \"현재단계\" : \"현재단계\",\\n        \"수집한정보\" : \"수집한 정보\",\\n        \"수집할정보\" : \"수집할 정보\"\\n    },\\n    \"thought\" : \"생각\",\\n    \"action\" : \"행동\",\\n    \"speak\" : \"말하기\",\\n    \"system\" : \"시스템\"\\n}\\n', additional_kwargs={}), HumanMessage(content='안녕', additional_kwargs={}, example=False), AIMessage(content='{\\n    \"status\" : {\\n        \"현재단계\" : \"주문\",\\n        \"수집한정보\" : \"해당사항 없음\",\\n        \"수집할정보\" : \"음료종류, 음료사이즈\"\\n    },\\n    \"thought\" : \"첫 번째 단계인 주문 단계에서 고객님께 음료 종류와 사이즈에 대한 정보를 수집해야 한다.\",\\n    \"action\" : \"정보수집\",\\n    \"speak\" : \"안녕하세요! 어떤 음료를 주문하실 건가요? (아메리카노, 라떼, 녹차 중 선택) 그리고 사이즈는 어떤 것으로 하시겠어요? (Short, Tall, Grande, Vanti 중 선택)\",\\n    \"system\" : \"해당사항 없음\"\\n}', additional_kwargs={}, example=False), HumanMessage(content='아메리카노 톨사이즈', additional_kwargs={}, example=False), AIMessage(content='{\\n    \"status\" : {\\n        \"현재단계\" : \"주문\",\\n        \"수집한정보\" : {\\n            \"음료종류\" : \"아메리카노\",\\n            \"음료사이즈\" : \"톨\"\\n        },\\n        \"수집할정보\" : \"컵종류\"\\n    },\\n    \"thought\" : \"고객님께서 아메리카노 톨 사이즈를 주문하셨다. 이제 컵 종류에 대해 물어봐야한다.\",\\n    \"action\" : \"정보수집\",\\n    \"speak\" : \"컵 종류는 어떤 것으로 하시겠어요? (매장컵, 개인컵, 일회용컵 중 선택)\",\\n    \"system\" : \"해당사항 없음\"\\n}', additional_kwargs={}, example=False), HumanMessage(content='텀블러를 가져왔어. 여기에 담아줘.', additional_kwargs={}, example=False), AIMessage(content='{\\n    \"status\" : {\\n        \"현재단계\" : \"결제\",\\n        \"수집한정보\" : {\\n            \"음료종류\" : \"아메리카노\",\\n            \"음료사이즈\" : \"톨\",\\n            \"컵종류\" : \"개인컵\"\\n        },\\n        \"수집할정보\" : \"결제방식\"\\n    },\\n    \"thought\" : \"고객님께서는 개인컵을 사용하시겠다고 하셨다. 이제 결제 방식에 대해 물어봐야한다.\",\\n    \"action\" : \"정보수집\",\\n    \"speak\" : \"결제 방식은 어떻게 하시겠어요? (현금, 신용카드 중 선택)\",\\n    \"system\" : \"해당사항 없음\"\\n}', additional_kwargs={}, example=False), HumanMessage(content='카드로 할게', additional_kwargs={}, example=False), AIMessage(content='{\\n    \"status\" : {\\n        \"현재단계\" : \"입력\",\\n        \"수집한정보\" : {\\n            \"음료종류\" : \"아메리카노\",\\n            \"음료사이즈\" : \"톨\",\\n            \"컵종류\" : \"개인컵\",\\n            \"결제방식\" : \"신용카드\"\\n        },\\n        \"수집할정보\" : \"해당사항 없음\"\\n    },\\n    \"thought\" : \"고객님께서는 신용카드로 결제하시겠다고 하셨다. 이제 모든 정보를 입력해 주문을 완료해야한다.\",\\n    \"action\" : \"호출\",\\n    \"speak\" : \"신용카드로 결제하시겠군요. 주문을 입력하겠습니다.\",\\n    \"system\" : \"주문(\\'아메리카노\\', \\'톨\\', \\'개인컵\\', \\'신용카드\\')\"\\n}', additional_kwargs={}, example=False), HumanMessage(content='커피 언제나와', additional_kwargs={}, example=False), AIMessage(content='{\\n    \"status\" : {\\n        \"현재단계\" : \"제조\",\\n        \"수집한정보\" : {\\n            \"음료종류\" : \"아메리카노\",\\n            \"음료사이즈\" : \"톨\",\\n            \"컵종류\" : \"개인컵\",\\n            \"결제방식\" : \"신용카드\"\\n        },\\n        \"수집할정보\" : \"해당사항 없음\"\\n    },\\n    \"thought\" : \"주문을 완료하였으니 이제 고객님의 주문에 맞게 음료를 제조해야 한다.\",\\n    \"action\" : \"생성\",\\n    \"speak\" : \"지금 바로 제조를 시작하겠습니다. 잠시만 기다려 주세요.\",\\n    \"system\" : \"고객님의 아메리카노를 세심하게 준비하고 있습니다. 신선하게 내린 커피에 향긋한 아로마가 가득합니다. 고객님의 텀블러에 담아, 가장 좋은 상태로 제공할 예정입니다. 잠시만 기다려주세요.\"\\n}', additional_kwargs={}, example=False), HumanMessage(content='나왔니?', additional_kwargs={}, example=False), AIMessage(content='{\\n    \"status\" : {\\n        \"현재단계\" : \"제조\",\\n        \"수집한정보\" : {\\n            \"음료종류\" : \"아메리카노\",\\n            \"음료사이즈\" : \"톨\",\\n            \"컵종류\" : \"개인컵\",\\n            \"결제방식\" : \"신용카드\"\\n        },\\n        \"수집할정보\" : \"해당사항 없음\"\\n    },\\n    \"thought\" : \"음료 제조가 완료되었다. 고객에게 알려줘야한다.\",\\n    \"action\" : \"생성\",\\n    \"speak\" : \"네, 주문하신 아메리카노가 완성되었습니다.\",\\n    \"system\" : \"고객님께서 주문하신 아메리카노가 완성되었습니다. 신선한 아로마와 함께, 고객님의 텀블러에 담아 드립니다. 맛있게 드시고, 기분 좋은 하루 되세요!\"\\n}', additional_kwargs={}, example=False), HumanMessage(content='안녕~', additional_kwargs={}, example=False)]\n",
            "### result ###\n",
            "content='{\\n    \"status\" : {\\n        \"현재단계\" : \"주문\",\\n        \"수집한정보\" : \"해당사항 없음\",\\n        \"수집할정보\" : \"음료종류, 음료사이즈\"\\n    },\\n    \"thought\" : \"첫 번째 단계인 주문 단계에서 고객님께 음료 종류와 사이즈에 대한 정보를 수집해야 한다.\",\\n    \"action\" : \"정보수집\",\\n    \"speak\" : \"안녕하세요! 어떤 음료를 주문하실 건가요? (아메리카노, 라떼, 녹차 중 선택) 그리고 사이즈는 어떤 것으로 하시겠어요? (Short, Tall, Grande, Vanti 중 선택)\",\\n    \"system\" : \"해당사항 없음\"\\n}' additional_kwargs={} example=False\n",
            "Keyboard interruption in main thread... closing server.\n"
          ]
        },
        {
          "output_type": "execute_result",
          "data": {
            "text/plain": []
          },
          "metadata": {},
          "execution_count": 9
        }
      ],
      "source": [
        "messages = []\n",
        "\n",
        "messages.append(SystemMessage(content=instructions))\n",
        "\n",
        "def respond(user_message, chat_history):  # 채팅봇의 응답을 처리하는 함수를 정의합니다.\n",
        "\n",
        "    global messages\n",
        "\n",
        "    messages.append(HumanMessage(content=user_message))\n",
        "\n",
        "    print(\"### input ###\")\n",
        "    print(messages)\n",
        "\n",
        "    result = chat_llm(messages)\n",
        "\n",
        "    print(\"### result ###\")\n",
        "    print(result)\n",
        "\n",
        "    status_text = result.content\n",
        "\n",
        "    status_object = json.loads(status_text)\n",
        "\n",
        "    ai_message = status_object['speak']\n",
        "\n",
        "    messages.append(AIMessage(content=status_text))\n",
        "\n",
        "    chat_history.append((user_message, ai_message))  # 채팅 기록에 사용자의 메시지와 봇의 응답을 추가합니다.\n",
        "\n",
        "    return \"\", chat_history, status_text  # 수정된 채팅 기록을 반환합니다.\n",
        "\n",
        "with gr.Blocks() as demo:  # gr.Blocks()를 사용하여 인터페이스를 생성합니다.\n",
        "    status_text = gr.Textbox(label=\"상태\")\n",
        "    chatbot = gr.Chatbot(label=\"채팅창\")  # '채팅창'이라는 레이블을 가진 채팅봇 컴포넌트를 생성합니다.\n",
        "    msg = gr.Textbox(label=\"입력\")  # '입력'이라는 레이블을 가진 텍스트박스를 생성합니다.\n",
        "    clear = gr.Button(\"초기화\")  # '초기화'라는 레이블을 가진 버튼을 생성합니다.\n",
        "\n",
        "    msg.submit(respond, [msg, chatbot], [msg, chatbot, status_text])  # 텍스트박스에 메시지를 입력하고 제출하면 respond 함수가 호출되도록 합니다.\n",
        "    clear.click(lambda: None, None, chatbot, queue=False)  # '초기화' 버튼을 클릭하면 채팅 기록을 초기화합니다.\n",
        "\n",
        "demo.launch(debug=True)  # 인터페이스를 실행합니다. 실행하면 사용자는 '입력' 텍스트박스에 메시지를 작성하고 제출할 수 있으며, '초기화' 버튼을 통해 채팅 기록을 초기화 할 수 있습니다."
      ]
    },
    {
      "cell_type": "code",
      "execution_count": null,
      "metadata": {
        "id": "UaGUhAJGU6qr"
      },
      "outputs": [],
      "source": [
        "role_prompt = \"너는 카페에서 주문을 받는 사람처럼 행동해.\"\n",
        "\n",
        "instruction_prompt = \"\"\"\n",
        "\n",
        "[지시]\n",
        "- 현재 상태에 따라 현재 단계에 맞는 행동을 수행한다.\n",
        "- 매 응답 시에 [응답 양식]에 맞게 작성한다. 각 항목에 내용이 없을 경우 '해당사항 없음'이라고 표시해\n",
        "- 마지막 단계까지 수행하였다면 임무를 종료한다.\n",
        "\"\"\"\n",
        "\n",
        "step_prompt = \"\"\"\n",
        "\n",
        "[단계종류]\n",
        "단계의 순번이 단계의 순서이다. 각 단계는 ‘정보수집’, ‘호출’, ‘생성’ 중 하나의 행동을 수행해야한다. 각 행동에 대한 가이드는 아래와 같다.\n",
        "- '정보수집’ : 수집할 정보 항목을 나열하고, 각 항목의 옵션은 괄호() 안에 표기하였다.\n",
        "- ‘호출' : 호출할 함수명과 인자를 표기하였다.\n",
        "- ‘생성’ : 생성을 위한 가이드를 작성하였다.\n",
        "1. 주문\n",
        "- 정보수집 : 음료종류(아메리카노, 라떼, 녹차), 음료사이즈 (Short, Tall, Grande, Vanti), 컵종류 (매장컵, 개인컵, 일회용컵)\n",
        "2. 결제\n",
        "- 정보수집 : 결제방식(현금, 신용카드)\n",
        "3. 입력\n",
        "- 호출 : 주문(음료종류, 음료사이즈, 컵종류, 결제방식)\n",
        "4. 제조\n",
        "- 생성 : 고객의 요청사항에 맞게 음료를 제조한다. 고객에게 제조한 음료를 소개하는 글을 창의적이고 매력적으로 작성한다.\n",
        "\"\"\"\n",
        "\n",
        "action_response_prompt = \"\"\"\n",
        "\n",
        "[행동 종류]\n",
        "행동은 여러 개의 행동이 동시에 이뤄질 수 있다.\n",
        "- 단계이동 : 다음단계로 이동한다.\n",
        "- 정보수집 : 현재단계에서 수집할 정보를 사용자에게 요청한다. 단 수집할 정보가 3개 이상일 경우,  최대 2개로 나누어서 요청한다. 사용자에게 요청할 정보는 [응답 양식]의 'speak' key에  작성한다. 만약 이미 현재단계에서 수집할 정보를 확보하고 있다면, 다음 단계로 이동한다.\n",
        "- 호출 : 수집한 정보를 호출 양식에 맞게 입력하여 호출한다. 호출할 내용은 [응답 양식]의 'system' key에 파이썬 코드블록으로 작성한다.\n",
        "- 생성 : 수집한 정보를 바탕으로 가이드에 맞게 작성한다. 생성할 내용은 [응답 양식]의 'system' key에 작성한다. 단 이때 코드블록을 사용하지마.\n",
        "\n",
        "아래 [응답 양식] 처럼 JSON 반드시 포맷으로 작성해야한다. \"수집한정보\"인 경우 현재단계뿐만아니라 현재단계까지 수집된 모든 항목과 값까지 모두 기재되어야 한다.\n",
        "{\n",
        "    \"status\" : {\n",
        "        \"현재단계\" : \"현재단계\",\n",
        "        \"수집한정보\" : \"수집한 정보\",\n",
        "        \"수집할정보\" : \"수집할 정보\"\n",
        "    },\n",
        "    \"thought\" : \"생각\",\n",
        "    \"action\" : \"행동\",\n",
        "    \"speak\" : \"말하기\",\n",
        "    \"system\" : \"시스템\"\n",
        "}\n",
        "\"\"\""
      ]
    },
    {
      "cell_type": "code",
      "execution_count": null,
      "metadata": {
        "colab": {
          "background_save": true
        },
        "id": "nwv0QvMMUGlQ"
      },
      "outputs": [],
      "source": [
        "messages = []\n",
        "\n",
        "def respond(role_val, step_val, user_message, chat_history):  # 채팅봇의 응답을 처리하는 함수를 정의합니다.\n",
        "\n",
        "    global messages\n",
        "\n",
        "    if len(messages) == 0:\n",
        "        system_message = role_val + instruction_prompt + step_val + action_response_prompt\n",
        "\n",
        "        messages.append(SystemMessage(content=system_message))\n",
        "\n",
        "    messages.append(HumanMessage(content=user_message))\n",
        "\n",
        "    result = chat_llm(messages)\n",
        "\n",
        "    status_text = result.content\n",
        "\n",
        "    status_object = json.loads(status_text)\n",
        "\n",
        "    ai_message = status_object['speak']\n",
        "\n",
        "    messages.append(AIMessage(content=status_text))\n",
        "\n",
        "    chat_history.append((user_message, ai_message))  # 채팅 기록에 사용자의 메시지와 봇의 응답을 추가합니다.\n",
        "\n",
        "    return \"\", chat_history, status_text  # 수정된 채팅 기록을 반환합니다.\n",
        "\n",
        "\n",
        "def reset_prompt_status():\n",
        "    messages = []\n",
        "\n",
        "with gr.Blocks() as demo:  # gr.Blocks()를 사용하여 인터페이스를 생성합니다.\n",
        "\n",
        "    role = gr.Textbox(label=\"역할 정의\", value = role_prompt)\n",
        "    step = gr.Textbox(label=\"단계 정의\", value = step_prompt)\n",
        "\n",
        "    with gr.Row():\n",
        "        with gr.Column():\n",
        "            chatbot = gr.Chatbot(label=\"채팅창\")  # '채팅창'이라는 레이블을 가진 채팅봇 컴포넌트를 생성합니다.\n",
        "            msg = gr.Textbox(label=\"입력\")  # '입력'이라는 레이블을 가진 텍스트박스를 생성합니다.\n",
        "\n",
        "        with gr.Column():\n",
        "            status_text = gr.Textbox(label=\"상태\")\n",
        "            clear = gr.Button(\"초기화\")  # '초기화'라는 레이블을 가진 버튼을 생성합니다.\n",
        "\n",
        "    msg.submit(respond, [role, step, msg, chatbot], [msg, chatbot, status_text])  # 텍스트박스에 메시지를 입력하고 제출하면 respond 함수가 호출되도록 합니다.\n",
        "    clear.click(reset_prompt_status, None, chatbot, queue=False)  # '초기화' 버튼을 클릭하면 채팅 기록을 초기화합니다.\n",
        "\n",
        "demo.launch(debug=True)  # 인터페이스를 실행합니다. 실행하면 사용자는 '입력' 텍스트박스에 메시지를 작성하고 제출할 수 있으며, '초기화' 버튼을 통해 채팅 기록을 초기화 할 수 있습니다."
      ]
    },
    {
      "cell_type": "markdown",
      "metadata": {
        "id": "VFMe_g1-eE1u"
      },
      "source": [
        "역할 : 너는 업무지원받는 사람처럼 행동해.\n",
        "\n",
        "[단계종류]\n",
        "단계의 순번이 단계의 순서이다. 각 단계는 ‘정보수집’, ‘호출’, ‘생성’ 중 하나의 행동을 수행해야한다. 각 행동에 대한 가이드는 아래와 같다.\n",
        "- '정보수집’ : 수집할 정보 항목을 나열하고, 각 항목의 옵션은 괄호() 안에 표기하였다.\n",
        "- ‘호출' : 호출할 함수명과 인자를 표기하였다.\n",
        "- ‘생성’ : 생성을 위한 가이드를 작성하였다.\n",
        "\n",
        "1. 요청\n",
        "- 정보수집 : 휴가일, 휴가종류(연차, 방학, 병가), 휴가타입(종일, 오전반차, 오후반차)\n",
        "2. 결재라인\n",
        "- 정보수집 : 검토(팀장, 부서장)\n",
        "3. 입력\n",
        "- 호출 : 휴가신청(휴가일, 휴가종류, 휴가타입)\n"
      ]
    }
  ],
  "metadata": {
    "colab": {
      "provenance": []
    },
    "kernelspec": {
      "display_name": "Python 3",
      "name": "python3"
    },
    "language_info": {
      "name": "python"
    }
  },
  "nbformat": 4,
  "nbformat_minor": 0
}